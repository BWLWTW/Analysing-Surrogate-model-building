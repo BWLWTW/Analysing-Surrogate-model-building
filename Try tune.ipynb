{
 "cells": [
  {
   "cell_type": "markdown",
   "id": "dfcc4e5b-9e8a-41d7-833d-9c0d6bda0cef",
   "metadata": {},
   "source": [
    "# Step 1: Import library"
   ]
  },
  {
   "cell_type": "code",
   "execution_count": 1,
   "id": "91f24f54-ae70-460a-be8c-13724240b380",
   "metadata": {},
   "outputs": [],
   "source": [
    "import numpy as np\n",
    "import pandas as pd\n",
    "import warnings\n",
    "import os\n",
    "import random\n",
    "import pickle\n",
    "# import ML related libraries\n",
    "import tensorflow as tf\n",
    "import keras\n",
    "from keras.models import Sequential\n",
    "from keras.layers.core import Dense, Activation\n",
    "from tensorflow.keras.optimizers import SGD, Adam\n",
    "from keras.models import Model\n",
    "from keras.layers import Dense, Input, Dropout\n",
    "from sklearn.preprocessing import StandardScaler\n",
    "import matplotlib.pyplot as plt\n",
    "from sklearn.model_selection import train_test_split\n",
    "from sklearn.model_selection import GridSearchCV\n",
    "from sklearn.model_selection import cross_val_score\n",
    "from sklearn.model_selection import KFold\n",
    "from keras.wrappers.scikit_learn import KerasRegressor\n",
    "from keras.callbacks import EarlyStopping, ModelCheckpoint\n",
    "from bayes_opt import BayesianOptimization\n",
    "# import plotting related libraries\n",
    "from matplotlib.lines import Line2D\n",
    "import matplotlib.pyplot as plt\n",
    "from scipy import interpolate"
   ]
  },
  {
   "cell_type": "markdown",
   "id": "58b9e405-21c9-448d-840c-d91ab062b096",
   "metadata": {},
   "source": [
    "# Step 2: Get Plot\n",
    "It is a function plotting the actual simulation result and the prediction result"
   ]
  },
  {
   "cell_type": "code",
   "execution_count": 2,
   "id": "b4f1dbb1-a89b-4729-9a5a-1304e83edd79",
   "metadata": {},
   "outputs": [],
   "source": [
    "def get_plot(oringin_data, predict_data, i):\n",
    "    '''\n",
    "    Plot target outputs against predicted outputs\n",
    "    inputs:\n",
    "        oringin_data: target outputs\n",
    "        predict_data: predicted outputs\n",
    "        i: plot index\n",
    "        root: root for saving figure\n",
    "    '''\n",
    "    root = r'ANN_results/BD/test/test--' + str(i) + '.jpg'\n",
    "    fig, ax = plt.subplots(figsize=(10,6))\n",
    "    x = y_label_new\n",
    "    oringin_data = oringin_data \n",
    "    predict_data = predict_data \n",
    "    p1 = ax.plot(x,oringin_data.ravel(),'r--', label = 'Target stress')\n",
    "    p2 = ax.plot(x,predict_data.ravel(),'g--',label = 'Predict stress')\n",
    "    ax.set_title(\"Test-Set\" + str(i))\n",
    "    # ax.set_xticks(x)\n",
    "    ax.set_ylabel('Logitudinal stress (MPa)')\n",
    "    ax.set_xlabel('Distance from top surface Z(mm)')\n",
    "    \n",
    "    ax.xaxis.set_major_locator(plt.MultipleLocator(1))\n",
    "    ax.yaxis.set_tick_params(direction='out')\n",
    "\n",
    "    ax2 = plt.twinx()\n",
    "    difference = predict_data.ravel() - oringin_data.ravel()\n",
    "    difference=np.array(list(map(lambda x,y:x/y,difference,oringin_data.ravel())))\n",
    "\n",
    "\n",
    "    legend_elements = [Line2D([0], [0], color='red', lw=2, label='Simulation result'),\n",
    "                       Line2D([0], [0], color='green', lw=2, label='ANN prediction')\n",
    "                      ]\n",
    "\n",
    "    ax.legend(handles=legend_elements, loc='best')\n",
    "    plt.savefig(root)\n",
    "    plt.close()"
   ]
  },
  {
   "cell_type": "markdown",
   "id": "d98b65e3-ae89-435b-af42-5735d0a1b1a9",
   "metadata": {},
   "source": [
    "# Step 3: Tune the Optimizer\n",
    "a function to tune the hyperparameter of the ANN machine-> optimizer\n",
    "model used is from KerasRegressor\n",
    "Used gridsearch cross validation\n",
    "printing the best optimizer name and the score of this machine\n",
    "printing the mean_test_score, std_test_score, parameter for all the optimizer tested"
   ]
  },
  {
   "cell_type": "code",
   "execution_count": 3,
   "id": "fe4a886f-9fde-4b32-9623-e3ccb51f7871",
   "metadata": {},
   "outputs": [],
   "source": [
    "def tune_optimizer():\n",
    "    # callbacks = [\n",
    "    #     EarlyStopping(monitor='mse', patience=100, verbose=0),\n",
    "    # ]\n",
    "    model = KerasRegressor(build_fn=create_model, nb_epoch=200, batch_size=10, verbose=0) \n",
    "    optimizer = ['SGD', 'RMSprop', 'Adagrad', 'Adadelta', 'Adam', 'Adamax', 'Nadam'] # 200 hidden nodes\n",
    "    param_grid = dict(optimizer=optimizer) \n",
    "    grid = GridSearchCV(estimator=model, param_grid=param_grid, n_jobs=8)\n",
    "    grid_result = grid.fit(Proc_X_train, Proc_Y_train)\n",
    "    print(\"Best: %f using %s\" % (grid_result.best_score_, grid_result.best_params_)) \n",
    "    for index, value in enumerate(grid_result.cv_results_['mean_test_score']):\n",
    "        print(\"%f (%f) with: %r\" % (grid_result.cv_results_['mean_test_score'][index], grid_result.cv_results_['std_test_score'][index], grid_result.cv_results_['params'][index]))"
   ]
  },
  {
   "cell_type": "markdown",
   "id": "fd070c15-5a69-4813-902d-46aa50c8a8ea",
   "metadata": {},
   "source": [
    "# Step 4: Tuning other parameters\n",
    "a function tuning the other hyperparameter, including number of hidden nodes, learning rate, batch size,\n",
    "set number of epochs to 1000\n",
    "still use GridSearch CV and print the same thing as step 3"
   ]
  },
  {
   "cell_type": "code",
   "execution_count": 4,
   "id": "c3c19638-ea6c-402d-86af-b234a58bd806",
   "metadata": {},
   "outputs": [],
   "source": [
    "def tune_other_para():\n",
    "    model = KerasRegressor(build_fn=create_model_2, verbose=0) \n",
    "    param_grid = {'N_hidden_nodes':[100, 500, 1000, 1500, 2000], 'l_rate':[0.0001, 0.001, 0.01], 'Batch_size':[1, 8, 16, 32], 'epochs':[1000]}\n",
    "    grid = GridSearchCV(estimator=model, param_grid=param_grid, n_jobs=8)\n",
    "    grid_result = grid.fit(Proc_X_train, Proc_Y_train)\n",
    "    print(\"Best: %f using %s\" % (grid_result.best_score_, grid_result.best_params_)) \n",
    "    for index, value in enumerate(grid_result.cv_results_['mean_test_score']):\n",
    "        print(\"%f (%f) with: %r\" % (grid_result.cv_results_['mean_test_score'][index], grid_result.cv_results_['std_test_score'][index], grid_result.cv_results_['params'][index]))"
   ]
  },
  {
   "cell_type": "markdown",
   "id": "f2a220b9-eb7f-4b52-b372-a4d173b44752",
   "metadata": {},
   "source": [
    "# Step 5: Plot_history\n",
    "plot learning curve\n",
    "make learning history(generated later after building a model) a dataframe and insert a column called epoch in it\n",
    "plot MSE against epoch\n",
    "plot val_mse (should be validation mse) against no of epoch (validation error)"
   ]
  },
  {
   "cell_type": "code",
   "execution_count": 5,
   "id": "2d66632a-f4ca-415d-88b8-a403aaf91988",
   "metadata": {},
   "outputs": [],
   "source": [
    "def plot_history(history):\n",
    "    '''\n",
    "    Plot learning curve using NN training history info\n",
    "    '''\n",
    "    hist = pd.DataFrame(history.history)\n",
    "    hist['epoch'] = history.epoch\n",
    "    plt.figure()\n",
    "    plt.xlabel('Epoch')\n",
    "    plt.ylabel('Mean Square Error [$MPG^2$]')\n",
    "    plt.plot(hist['epoch'], hist['mse'],\n",
    "            label='Train Error')\n",
    "    plt.plot(hist['epoch'], hist['val_mse'],\n",
    "            label = 'Val Error')\n",
    "    plt.ylim([0,0.4])\n",
    "    plt.legend()\n",
    "    plt.show()"
   ]
  },
  {
   "cell_type": "markdown",
   "id": "3960f30b-0024-433a-b949-e115c73310e0",
   "metadata": {},
   "source": [
    "# Step 6: import data + preprocessing\n",
    "import the data using pd.read_csv\n",
    "only get columns required\n",
    "assign column names\n",
    "get y data for training as well"
   ]
  },
  {
   "cell_type": "code",
   "execution_count": 6,
   "id": "383156d4-0b1b-4e58-a1a2-04050456de43",
   "metadata": {},
   "outputs": [],
   "source": [
    "def data_import(csv_file_name):\n",
    "    '''\n",
    "    used to import dataset and split training and test dataset\n",
    "    csv_file_name is the dateset root\n",
    "    reture traing and test datasets\n",
    "    '''\n",
    "    raw_data = pd.read_csv(csv_file_name,header=None).dropna()\n",
    "    x = raw_data.iloc[:,3:6]\n",
    "    # x.columns = ['Travel_length', 'Welding_speed', 'Net_energy_input']\n",
    "    y = raw_data.iloc[:,6:]\n",
    "    return x, y"
   ]
  },
  {
   "cell_type": "markdown",
   "id": "47b25972-ff6a-480a-8333-82e6c0bd99e3",
   "metadata": {},
   "source": [
    "# Step 7:Neural Network training for Bayesian Optimisation\n",
    "use a function for defning the machine name and parameters for the machine\n",
    "use KerasRegressor to build the machine with specified hyperparameters\n",
    "use processed training input and output (will define function to make them later) for training the model\n",
    "history is the name of the model\n",
    "return a scoe showing cross validation mse"
   ]
  },
  {
   "cell_type": "code",
   "execution_count": 7,
   "id": "5ee36b20-498f-4940-b0c3-6597f2f5c374",
   "metadata": {},
   "outputs": [],
   "source": [
    "def nn_cl_bo(N_hidden_nodes, l_rate, Batch_size, epochs):\n",
    "    '''\n",
    "    Using certain number of neurons, learning rate and Batch size\n",
    "    to train a NN and return its cross validation MSE\n",
    "    inputs:\n",
    "        N_hidden_nodes: number of neurons\n",
    "        l_rate: learning rate\n",
    "        Batch_size: Batch size\n",
    "    output:\n",
    "        score: cross validation MSE\n",
    "    '''\n",
    "    N_hidden_nodes = round(N_hidden_nodes)\n",
    "    Batch_size = round(Batch_size)\n",
    "    def nn_cl_fun():\n",
    "        nn = keras.Sequential([\n",
    "            keras.layers.Dense(N_hidden_nodes, activation=tf.nn.relu, input_shape=(4,)),\n",
    "        # keras.layers.Dropout(0.5),\n",
    "            keras.layers.Dense(1, activation='linear')\n",
    "        ])\n",
    "        nn.compile(loss='mse',\n",
    "                    optimizer=tf.keras.optimizers.Adamax(learning_rate=l_rate, beta_1=0.9, beta_2=0.99, epsilon=1e-08, decay=0.0),\n",
    "                    metrics=['mse'])\n",
    "        return nn\n",
    "    nn = KerasRegressor(build_fn=nn_cl_fun, epochs=epochs, batch_size=Batch_size,\n",
    "                        verbose=0)\n",
    "    history = nn.fit(Proc_X_train, Proc_Y_train, batch_size=Batch_size, epochs=1000, \n",
    "                        verbose=0, validation_split=0.1)\n",
    "    score = -history.history['val_loss'][-1]\n",
    "    return score"
   ]
  },
  {
   "cell_type": "markdown",
   "id": "b60193e0-0d01-4b42-be77-8e605e8d7149",
   "metadata": {},
   "source": [
    "# Step 8: function for creating a model for tuning optimiser"
   ]
  },
  {
   "cell_type": "code",
   "execution_count": 8,
   "id": "f0fd0870-1d0b-4b17-846d-8e54132f641d",
   "metadata": {},
   "outputs": [],
   "source": [
    "def create_model(optimizer='adam'):\n",
    "    '''\n",
    "    Build a NN\n",
    "    inputs:\n",
    "        N_hidden_nodes: number of neurons\n",
    "        input_dim: number of inputs\n",
    "        N_outputs: number of outputs\n",
    "        l_rate: learning rate\n",
    "        Batch_size: Batch size\n",
    "    outputs:\n",
    "        model: Trained model\n",
    "        history: training history\n",
    "    '''\n",
    "    model = keras.Sequential([\n",
    "        keras.layers.Dense(200, activation=tf.nn.leaky_relu, input_shape=(4,)),\n",
    "        keras.layers.Dense(21,activation='linear')\n",
    "    ])\n",
    "    model.compile(loss='mse',\n",
    "                optimizer=optimizer,\n",
    "                metrics=['mse'])\n",
    "    model.summary()\n",
    "    return model"
   ]
  },
  {
   "cell_type": "markdown",
   "id": "a0de5226-6576-4d7e-a1ac-6a107ecacd7b",
   "metadata": {},
   "source": [
    "# Step 9: function for creating a model for tuning other hyper parameter"
   ]
  },
  {
   "cell_type": "code",
   "execution_count": 9,
   "id": "2adc9b3c-559f-433f-91bf-72262261a60f",
   "metadata": {},
   "outputs": [],
   "source": [
    "def create_model_2(N_hidden_nodes, l_rate, Batch_size, epochs):\n",
    "    '''\n",
    "    Build a NN\n",
    "    inputs:\n",
    "        N_hidden_nodes: number of neurons\n",
    "        input_dim: number of inputs\n",
    "        N_outputs: number of outputs\n",
    "        l_rate: learning rate\n",
    "        Batch_size: Batch size\n",
    "    outputs:\n",
    "        model: Trained model\n",
    "        history: training history\n",
    "    '''\n",
    "    model = keras.Sequential([\n",
    "        keras.layers.Dense(N_hidden_nodes, activation=tf.nn.leaky_relu, input_shape=(4,)),\n",
    "        keras.layers.Dense(21,activation='linear')\n",
    "    ])\n",
    "    optimizer=tf.keras.optimizers.Adamax(learning_rate=l_rate, beta_1=0.9, beta_2=0.99, epsilon=1e-08, decay=0.0)\n",
    "    model.compile(loss='mse',\n",
    "                optimizer=optimizer,\n",
    "                metrics=['mse'])\n",
    "    model.summary()\n",
    "    model.fit(Proc_X_train, Proc_Y_train, batch_size=Batch_size, epochs=epochs, \n",
    "                        verbose=0, validation_split=0.1)\n",
    "    return model\n"
   ]
  },
  {
   "cell_type": "markdown",
   "id": "b175f3bb-947d-4819-a69c-89be5c6af7c2",
   "metadata": {},
   "source": [
    "# Step 10: function for creating a model for all tuned hyperparameter"
   ]
  },
  {
   "cell_type": "code",
   "execution_count": 10,
   "id": "e880454b-cb7d-4bc7-b7c2-5e71d3c4abe0",
   "metadata": {},
   "outputs": [],
   "source": [
    "def build_model(N_hidden_nodes, input_dim, N_outputs, l_rate, Batch_size, Epochs):\n",
    "    '''\n",
    "    Build a NN\n",
    "    inputs:\n",
    "        N_hidden_nodes: number of neurons\n",
    "        input_dim: number of inputs\n",
    "        N_outputs: number of outputs\n",
    "        l_rate: learning rate\n",
    "        Batch_size: Batch size\n",
    "    outputs:\n",
    "        model: Trained model\n",
    "        history: training history\n",
    "    '''\n",
    "    callbacks = [\n",
    "        EarlyStopping(monitor='val_mse', patience=100, verbose=2),\n",
    "        ModelCheckpoint('best_model.h5', monitor='val_mse', save_best_only=True, verbose=0)\n",
    "    ]\n",
    "    model = keras.Sequential([\n",
    "        keras.layers.Dense(N_hidden_nodes, activation=tf.nn.leaky_relu, input_shape=(input_dim,)),\n",
    "    # keras.layers.Dropout(0.5),\n",
    "        keras.layers.Dense(N_outputs,activation='linear')\n",
    "    ])\n",
    "    model.compile(loss='mse',\n",
    "                optimizer=tf.keras.optimizers.Adamax(learning_rate=l_rate, beta_1=0.9, beta_2=0.99, epsilon=1e-08, decay=0.0),\n",
    "                metrics=['mse'])\n",
    "    model.summary()\n",
    "    history = model.fit(Proc_X_train, Proc_Y_train, batch_size=Batch_size, epochs=Epochs, \n",
    "                        verbose=1, validation_split=0.1, callbacks=callbacks)\n",
    "    return model, history"
   ]
  },
  {
   "cell_type": "markdown",
   "id": "5b9b37c9-3461-40c4-97cd-c1ae358227a4",
   "metadata": {},
   "source": [
    "# Step 11: Uniform Spaced Sampling"
   ]
  },
  {
   "cell_type": "code",
   "execution_count": 11,
   "id": "e389e884-c838-45ee-8257-7a4415d0555c",
   "metadata": {},
   "outputs": [],
   "source": [
    "def uniformly_spaced_sampling(y_label, y_label_new, y):\n",
    "    '''\n",
    "    fit and interpolate\n",
    "    '''\n",
    "    f = interpolate.interp1d(y_label, y, kind='linear') # linear interpolation function use first row of y and all of y -> linear interpolate location and y value\n",
    "    ynew=pd.DataFrame(f(y_label_new)) #first row of y (linear distributed) -> linearly interpolate(predict) when in evenly distributed location, what r y\n",
    "    return ynew"
   ]
  },
  {
   "cell_type": "markdown",
   "id": "ea3fc473-f9e8-41bb-bef7-9f5f5551103e",
   "metadata": {},
   "source": [
    "# Step 12: assign column names to data set \n",
    "can see only one column of y here"
   ]
  },
  {
   "cell_type": "code",
   "execution_count": 12,
   "id": "054fe814-9e57-4f67-99b4-e9f2fa5330e8",
   "metadata": {},
   "outputs": [
    {
     "name": "stdout",
     "output_type": "stream",
     "text": [
      "   A  B  C  D\n",
      "0  a  1  2  3\n",
      "1  b  3  4  5\n",
      "2  c  5  6  7\n",
      "xxxxxxxxxxxxxxxxxxxxxxxxxxxxxxxxxxxxxxxxxxxxxxxxxxxxx\n",
      "   A  B C or D  Value\n",
      "0  a  1      C      2\n",
      "1  b  3      C      4\n",
      "2  c  5      C      6\n",
      "3  a  1      D      3\n",
      "4  b  3      D      5\n",
      "5  c  5      D      7\n"
     ]
    }
   ],
   "source": [
    "import pandas as pd\n",
    "waynehaha = pd.DataFrame({'A': {0: 'a', 1: 'b', 2: 'c'},\n",
    "                   'B': {0: 1, 1: 3, 2: 5},\n",
    "                   'C': {0: 2, 1: 4, 2: 6},\n",
    "                    'D':{0:3,1:5,2:7}})\n",
    "print(waynehaha)\n",
    "print('xxxxxxxxxxxxxxxxxxxxxxxxxxxxxxxxxxxxxxxxxxxxxxxxxxxxx')\n",
    "waynehaha_melt=waynehaha.melt(id_vars=['A','B'],var_name=\"C or D\",value_name=\"Value\")\n",
    "print(waynehaha_melt)"
   ]
  },
  {
   "cell_type": "code",
   "execution_count": 13,
   "id": "3aa92f38-e177-4227-a397-b9edc4145bc8",
   "metadata": {},
   "outputs": [],
   "source": [
    "def data_melt(x, y):\n",
    "    '''\n",
    "    Add position as input\n",
    "    input:\n",
    "        x: old input \n",
    "        y: old output\n",
    "    output:\n",
    "        x_new: new input \n",
    "        y_new: new output\n",
    "    '''\n",
    "    y_label_str = [str(x) for x in y_label_new] # make a list of string of y_label_new\n",
    "    dataset = pd.concat([x, y],axis=1, ignore_index=True)\n",
    "    col_names = ['Travel_length', 'Welding_speed', 'Net_energy_input'] + y_label_str\n",
    "    dataset.columns = col_names\n",
    "    dataset = dataset.melt(id_vars=['Travel_length', 'Welding_speed', 'Net_energy_input'], \n",
    "        var_name=\"Position\", \n",
    "        value_name=\"Stress\") #for given welding parameter, in a given location, the stress is in this dataset\n",
    "    x_new = dataset.iloc[:, 0:4]\n",
    "    y_new = dataset.iloc[:, 4]\n",
    "    return x_new, y_new"
   ]
  },
  {
   "cell_type": "markdown",
   "id": "256cf4b0-f4b4-436f-9fb6-7c104aad0a55",
   "metadata": {},
   "source": [
    "# Step 12: define mean square error function MSE"
   ]
  },
  {
   "cell_type": "code",
   "execution_count": 14,
   "id": "cd031e64-35a7-4714-91ef-af04c4cb7dd4",
   "metadata": {},
   "outputs": [],
   "source": [
    "def MSE(testY, predicY):\n",
    "    '''\n",
    "    Get MSE fun\n",
    "    '''\n",
    "    MSE=np.sum(np.power((testY - predicY),2))/testY.shape[1]/testY.shape[0]\n",
    "    return MSE"
   ]
  },
  {
   "cell_type": "markdown",
   "id": "e0c530b6-af40-49e7-8a66-fc18e24d4bf6",
   "metadata": {},
   "source": [
    "# Step 13: Define a function getting number of output"
   ]
  },
  {
   "cell_type": "code",
   "execution_count": 15,
   "id": "f04c15b5-d56e-41f5-a848-4241b0527302",
   "metadata": {},
   "outputs": [],
   "source": [
    "def get_N_output(Y_train):\n",
    "    '''\n",
    "    Get the number of outputs\n",
    "    '''\n",
    "    if Y_train.ndim == 1:\n",
    "        N_outputs = 1\n",
    "    else:\n",
    "        N_outputs = Y_train.shape[1]\n",
    "    return N_outputs"
   ]
  },
  {
   "cell_type": "markdown",
   "id": "cc98e1e2-4c77-42ba-8f2d-aa99cbec5b04",
   "metadata": {},
   "source": [
    "# Step 14: Define a function getting y(output) label\n",
    "use y in the csv\n",
    "the first row of that csv is y_lab\n",
    "y_lab_new is min to max of y_lab in length of y_lab"
   ]
  },
  {
   "cell_type": "code",
   "execution_count": 16,
   "id": "5fdf7de9-9672-4d41-9dbc-70d4c26db0b1",
   "metadata": {},
   "outputs": [
    {
     "name": "stdout",
     "output_type": "stream",
     "text": [
      "   original  no    1     2      3\n",
      "0    3.4567   3  3.5  3.46  3.457\n",
      "[0.15 0.23 0.31 0.39 0.47 0.55]\n"
     ]
    }
   ],
   "source": [
    "a={'original':3.4567,'no':round(3.4567),'1':round(3.4567,1),'2':round(3.4567,2),'3':round(3.4567,3)}\n",
    "print(pd.DataFrame(a,index=[0]))\n",
    "import numpy as np\n",
    "print(np.linspace(0.15,0.55,6))"
   ]
  },
  {
   "cell_type": "code",
   "execution_count": 17,
   "id": "8d966a7f-cc89-4296-a3dd-d2bb2ccff1a4",
   "metadata": {},
   "outputs": [],
   "source": [
    "def get_y_lable(root):\n",
    "    '''\n",
    "    Create an array for uniform interval depth \n",
    "    (Used biased mesh in simulaiton, so the sample point depth is not uniform) \n",
    "    input:\n",
    "        root: file root contains the sample point depth information\n",
    "    outputs:\n",
    "        y_lab: old sample point position array\n",
    "        y_lab_new: new sample point position array\n",
    "    '''\n",
    "    x, y = data_import(root)\n",
    "    y_lab = y.iloc[0, :]\n",
    "    y_lab_new = np.linspace(round(min(y_lab),2), \n",
    "                              round(max(y_lab),2), \n",
    "                              round(len(y_lab),2))\n",
    "    return y_lab, y_lab_new\n",
    "    "
   ]
  },
  {
   "cell_type": "markdown",
   "id": "08708d5c-00d0-42ab-96fd-a8538a9a8119",
   "metadata": {},
   "source": [
    "# Step 15: Prepocessing function"
   ]
  },
  {
   "cell_type": "code",
   "execution_count": 18,
   "id": "272701b5-e0a1-4e41-a3b8-0d50ec6e04b2",
   "metadata": {},
   "outputs": [],
   "source": [
    "def pre_processing(model_type, x, y):\n",
    "    '''\n",
    "    Data preprocessing (Uniformly spaced sampling, normalisation, train test split)\n",
    "    inputs:\n",
    "        model_type: 'ANN1' the first architecture (3 inputs and 21 outputs)\n",
    "                    'ANN2' the second architecture (4 inputs and 1 output)        \n",
    "        x: a dataframe of inputs of the whole dataset\n",
    "        y: a dataframe of outputs of the whole dataset\n",
    "    outputs:\n",
    "        model_type: 'ANN1' the first architecture (3 inputs and 21 outputs)\n",
    "                    'ANN2' the second architecture (4 inputs and 1 output)\n",
    "        Proc_X_train: Processed Training input\n",
    "        Proc_Y_train: Processed Training output\n",
    "        Proc_X_test: Processed Test input\n",
    "        Y_test: Test output\n",
    "    '''\n",
    "      # uniformly_spaced_sampling\n",
    "    global y_label, y_label_new\n",
    "    y_label, y_label_new = get_y_lable(r'C:\\Users\\wingt\\Downloads\\benchmark_BD1.csv')\n",
    "    y = uniformly_spaced_sampling(y_label, y_label_new, y)\n",
    "\n",
    "    # Split dataset\n",
    "    # X_train, X_test, Y_train, Y_test = train_test_split(x,y,test_size=1/125.0, random_state=3)\n",
    "    X_train, Y_train = data_import(r'C:\\Users\\wingt\\Downloads\\S11_along_BD_125.csv')\n",
    "    Y_train = uniformly_spaced_sampling(y_label, y_label_new, Y_train)\n",
    "    X_test, Y_test = data_import(r'C:\\Users\\wingt\\Downloads\\S11_along_BD_80.csv')\n",
    "    Y_test = uniformly_spaced_sampling(y_label, y_label_new, Y_test)\n",
    "    # data reconstruction\n",
    "    if 'ANN2' in model_type:\n",
    "        X_train, Y_train = data_melt(X_train, Y_train)\n",
    "        X_test, Y_test_1 = data_melt(X_test, Y_test) # is there a mistake here\n",
    "\n",
    "    # Normalization\n",
    "    global scaler_X, scaler_Y\n",
    "    scaler_X = StandardScaler()\n",
    "    scaler_Y = StandardScaler()\n",
    "    scaled_train_X = scaler_X.fit_transform(X_train.to_numpy())\n",
    "    scaled_test_X = scaler_X.transform(X_test)\n",
    "\n",
    "    if Y_train.ndim == 1:\n",
    "      Y_train = np.array(Y_train).reshape(-1,1)#column array\n",
    "    scaled_train_Y = scaler_Y.fit_transform(Y_train)\n",
    "    Proc_X_train = scaled_train_X\n",
    "    Proc_Y_train = scaled_train_Y\n",
    "    Proc_X_test = scaled_test_X\n",
    "\n",
    "    return model_type, Proc_X_train, Proc_Y_train, Proc_X_test, Y_test"
   ]
  },
  {
   "cell_type": "markdown",
   "id": "fc516a76-61b1-41dd-8ac2-4a233df90024",
   "metadata": {},
   "source": [
    "# Step 16: Get Result function\n",
    "build a model based on preprocessed data and tuned hyperparameter\n",
    "output the model, predicted scalar transformed y, predicted y in 21 columns, history of fitting"
   ]
  },
  {
   "cell_type": "code",
   "execution_count": 19,
   "id": "fa6656fb-1ba1-4c13-99c3-e138824b1469",
   "metadata": {},
   "outputs": [],
   "source": [
    "def get_result(model_type, Proc_X_train, Proc_Y_train, Proc_X_test, N_neurons, Batch_size, Epochs, l_rate):\n",
    "    '''\n",
    "    Get the trained model, prediction results, and NN training history\n",
    "    inputs:\n",
    "        model_type: 'ANN1' the first architecture (3 inputs and 21 outputs)\n",
    "                    'ANN2' the second architecture (4 inputs and 1 output)\n",
    "        Proc_X_train: Processed Training input\n",
    "        Proc_Y_train: Processed Training output\n",
    "        Proc_X_test: Processed Test input\n",
    "        N_neurons: Number of Neurons in the hidden layer\n",
    "        l_rate: Learning rate\n",
    "    outputs:\n",
    "        model: Trained model\n",
    "        predict_test: predicted results\n",
    "        history: training history\n",
    "    '''\n",
    "    #build model\n",
    "    N_inputs = Proc_X_train.shape[1]\n",
    "    N_outputs = get_N_output(Proc_Y_train)\n",
    "    model, history = build_model(N_neurons, N_inputs, N_outputs, l_rate, Batch_size, Epochs)\n",
    "    # Predict\n",
    "    predict_test_scal = model.predict(Proc_X_test)\n",
    "    if 'ANN2' in model_type:\n",
    "      predict_test_scal = np.reshape(predict_test_scal, (21, -1)).T\n",
    "    \n",
    "    predict_test = scaler_Y.inverse_transform(predict_test_scal)\n",
    "    return  model, predict_test_scal, predict_test, history"
   ]
  },
  {
   "cell_type": "code",
   "execution_count": 20,
   "id": "39ff1913-49ef-4799-a20d-3aab26245ec2",
   "metadata": {},
   "outputs": [
    {
     "data": {
      "text/plain": [
       "array([[1, 3],\n",
       "       [2, 4]])"
      ]
     },
     "execution_count": 20,
     "metadata": {},
     "output_type": "execute_result"
    }
   ],
   "source": [
    "a=np.array([[1],[2],[3],[4]])\n",
    "np.reshape(a,(2,2)).T"
   ]
  },
  {
   "cell_type": "markdown",
   "id": "f16200cb-6212-474d-a2fb-be7d67b9a95f",
   "metadata": {},
   "source": [
    "# Step 17: fix random seed"
   ]
  },
  {
   "cell_type": "code",
   "execution_count": 21,
   "id": "0cf2a92d-d8c3-4a8c-880b-6cb97d04439d",
   "metadata": {},
   "outputs": [],
   "source": [
    "def seed_tensorflow(seed):\n",
    "    '''\n",
    "    Fix ramdom seed\n",
    "    '''\n",
    "    random.seed(seed)\n",
    "    np.random.seed(seed)\n",
    "    tf.random.set_seed(seed)\n",
    "    os.environ['TF_DETERMINISTIC_OPS'] = '1'\n",
    "    os.environ['PYTHONHASHSEED'] = str(seed)"
   ]
  },
  {
   "cell_type": "markdown",
   "id": "4aa94d0c-d4f3-4993-b24c-f0777935c519",
   "metadata": {},
   "source": [
    "# Step 18: Gather all the thing!\n"
   ]
  },
  {
   "cell_type": "code",
   "execution_count": 22,
   "id": "2a5f9351-207b-4824-8a56-d5fdeb0de254",
   "metadata": {},
   "outputs": [
    {
     "name": "stdout",
     "output_type": "stream",
     "text": [
      "|   iter    |  target   | Batch_... | N_hidd... |  epochs   |  l_rate   |\n",
      "-------------------------------------------------------------------------\n",
      "| \u001b[0m1        \u001b[0m | \u001b[0m-0.005957\u001b[0m | \u001b[0m14.99    \u001b[0m | \u001b[0m1.743e+03\u001b[0m | \u001b[0m246.4    \u001b[0m | \u001b[0m0.009194 \u001b[0m |\n",
      "| \u001b[95m2        \u001b[0m | \u001b[95m-0.00505 \u001b[0m | \u001b[95m31.77    \u001b[0m | \u001b[95m1.227e+03\u001b[0m | \u001b[95m777.6    \u001b[0m | \u001b[95m0.005232 \u001b[0m |\n",
      "| \u001b[0m3        \u001b[0m | \u001b[0m-0.005124\u001b[0m | \u001b[0m19.7     \u001b[0m | \u001b[0m383.6    \u001b[0m | \u001b[0m126.7    \u001b[0m | \u001b[0m0.007411 \u001b[0m |\n",
      "| \u001b[0m4        \u001b[0m | \u001b[0m-0.006602\u001b[0m | \u001b[0m28.8     \u001b[0m | \u001b[0m325.0    \u001b[0m | \u001b[0m885.9    \u001b[0m | \u001b[0m0.002813 \u001b[0m |\n",
      "| \u001b[95m5        \u001b[0m | \u001b[95m-0.004326\u001b[0m | \u001b[95m27.1     \u001b[0m | \u001b[95m599.2    \u001b[0m | \u001b[95m647.3    \u001b[0m | \u001b[95m0.00584  \u001b[0m |\n",
      "| \u001b[0m6        \u001b[0m | \u001b[0m-0.005084\u001b[0m | \u001b[0m38.8     \u001b[0m | \u001b[0m539.0    \u001b[0m | \u001b[0m320.5    \u001b[0m | \u001b[0m0.002611 \u001b[0m |\n",
      "| \u001b[0m7        \u001b[0m | \u001b[0m-0.005657\u001b[0m | \u001b[0m21.64    \u001b[0m | \u001b[0m296.9    \u001b[0m | \u001b[0m207.3    \u001b[0m | \u001b[0m0.009643 \u001b[0m |\n",
      "| \u001b[0m8        \u001b[0m | \u001b[0m-0.004683\u001b[0m | \u001b[0m61.49    \u001b[0m | \u001b[0m384.9    \u001b[0m | \u001b[0m73.09    \u001b[0m | \u001b[0m0.002125 \u001b[0m |\n",
      "| \u001b[0m9        \u001b[0m | \u001b[0m-0.005431\u001b[0m | \u001b[0m45.09    \u001b[0m | \u001b[0m1.561e+03\u001b[0m | \u001b[0m71.79    \u001b[0m | \u001b[0m0.005819 \u001b[0m |\n",
      "| \u001b[0m10       \u001b[0m | \u001b[0m-0.01847 \u001b[0m | \u001b[0m1.103    \u001b[0m | \u001b[0m1.036e+03\u001b[0m | \u001b[0m657.8    \u001b[0m | \u001b[0m0.009858 \u001b[0m |\n",
      "| \u001b[0m11       \u001b[0m | \u001b[0m-0.004422\u001b[0m | \u001b[0m17.32    \u001b[0m | \u001b[0m1.607e+03\u001b[0m | \u001b[0m877.0    \u001b[0m | \u001b[0m0.009235 \u001b[0m |\n",
      "| \u001b[0m12       \u001b[0m | \u001b[0m-0.01211 \u001b[0m | \u001b[0m1.139    \u001b[0m | \u001b[0m944.3    \u001b[0m | \u001b[0m982.4    \u001b[0m | \u001b[0m0.00405  \u001b[0m |\n",
      "| \u001b[0m13       \u001b[0m | \u001b[0m-0.005297\u001b[0m | \u001b[0m52.27    \u001b[0m | \u001b[0m1.097e+03\u001b[0m | \u001b[0m782.3    \u001b[0m | \u001b[0m0.004901 \u001b[0m |\n",
      "| \u001b[0m14       \u001b[0m | \u001b[0m-0.009898\u001b[0m | \u001b[0m2.834    \u001b[0m | \u001b[0m182.2    \u001b[0m | \u001b[0m155.9    \u001b[0m | \u001b[0m0.002587 \u001b[0m |\n",
      "| \u001b[0m15       \u001b[0m | \u001b[0m-0.005631\u001b[0m | \u001b[0m61.79    \u001b[0m | \u001b[0m1.267e+03\u001b[0m | \u001b[0m825.8    \u001b[0m | \u001b[0m0.005704 \u001b[0m |\n",
      "| \u001b[0m16       \u001b[0m | \u001b[0m-0.005335\u001b[0m | \u001b[0m41.03    \u001b[0m | \u001b[0m1.626e+03\u001b[0m | \u001b[0m930.3    \u001b[0m | \u001b[0m0.009135 \u001b[0m |\n",
      "| \u001b[0m17       \u001b[0m | \u001b[0m-0.01914 \u001b[0m | \u001b[0m52.96    \u001b[0m | \u001b[0m197.5    \u001b[0m | \u001b[0m393.0    \u001b[0m | \u001b[0m0.0004515\u001b[0m |\n",
      "| \u001b[95m18       \u001b[0m | \u001b[95m-0.002868\u001b[0m | \u001b[95m35.42    \u001b[0m | \u001b[95m1.594e+03\u001b[0m | \u001b[95m98.59    \u001b[0m | \u001b[95m0.001968 \u001b[0m |\n",
      "| \u001b[0m19       \u001b[0m | \u001b[0m-0.004462\u001b[0m | \u001b[0m24.03    \u001b[0m | \u001b[0m496.1    \u001b[0m | \u001b[0m805.3    \u001b[0m | \u001b[0m0.003586 \u001b[0m |\n",
      "| \u001b[0m20       \u001b[0m | \u001b[0m-0.00484 \u001b[0m | \u001b[0m41.25    \u001b[0m | \u001b[0m991.9    \u001b[0m | \u001b[0m604.3    \u001b[0m | \u001b[0m0.009399 \u001b[0m |\n",
      "| \u001b[0m21       \u001b[0m | \u001b[0m-0.006281\u001b[0m | \u001b[0m60.44    \u001b[0m | \u001b[0m232.3    \u001b[0m | \u001b[0m851.4    \u001b[0m | \u001b[0m0.003526 \u001b[0m |\n",
      "| \u001b[0m22       \u001b[0m | \u001b[0m-0.01458 \u001b[0m | \u001b[0m7.352    \u001b[0m | \u001b[0m773.0    \u001b[0m | \u001b[0m534.8    \u001b[0m | \u001b[0m0.009615 \u001b[0m |\n",
      "| \u001b[0m23       \u001b[0m | \u001b[0m-0.02154 \u001b[0m | \u001b[0m24.41    \u001b[0m | \u001b[0m34.62    \u001b[0m | \u001b[0m866.7    \u001b[0m | \u001b[0m0.0012   \u001b[0m |\n",
      "| \u001b[0m24       \u001b[0m | \u001b[0m-0.004822\u001b[0m | \u001b[0m31.14    \u001b[0m | \u001b[0m1.701e+03\u001b[0m | \u001b[0m539.0    \u001b[0m | \u001b[0m0.004521 \u001b[0m |\n",
      "| \u001b[0m25       \u001b[0m | \u001b[0m-0.02158 \u001b[0m | \u001b[0m51.43    \u001b[0m | \u001b[0m50.58    \u001b[0m | \u001b[0m594.0    \u001b[0m | \u001b[0m0.004173 \u001b[0m |\n",
      "| \u001b[0m26       \u001b[0m | \u001b[0m-0.00348 \u001b[0m | \u001b[0m63.06    \u001b[0m | \u001b[0m1.605e+03\u001b[0m | \u001b[0m101.3    \u001b[0m | \u001b[0m0.001986 \u001b[0m |\n",
      "| \u001b[0m27       \u001b[0m | \u001b[0m-0.004242\u001b[0m | \u001b[0m29.5     \u001b[0m | \u001b[0m1.409e+03\u001b[0m | \u001b[0m365.4    \u001b[0m | \u001b[0m0.003664 \u001b[0m |\n",
      "| \u001b[0m28       \u001b[0m | \u001b[0m-0.00711 \u001b[0m | \u001b[0m59.05    \u001b[0m | \u001b[0m1.908e+03\u001b[0m | \u001b[0m437.3    \u001b[0m | \u001b[0m0.008996 \u001b[0m |\n",
      "| \u001b[0m29       \u001b[0m | \u001b[0m-0.007013\u001b[0m | \u001b[0m21.81    \u001b[0m | \u001b[0m174.6    \u001b[0m | \u001b[0m550.4    \u001b[0m | \u001b[0m0.006642 \u001b[0m |\n",
      "| \u001b[0m30       \u001b[0m | \u001b[0m-0.006052\u001b[0m | \u001b[0m57.26    \u001b[0m | \u001b[0m1.931e+03\u001b[0m | \u001b[0m781.4    \u001b[0m | \u001b[0m0.007615 \u001b[0m |\n",
      "| \u001b[0m31       \u001b[0m | \u001b[0m-0.00378 \u001b[0m | \u001b[0m45.73    \u001b[0m | \u001b[0m1.406e+03\u001b[0m | \u001b[0m779.0    \u001b[0m | \u001b[0m0.009746 \u001b[0m |\n",
      "| \u001b[0m32       \u001b[0m | \u001b[0m-0.009983\u001b[0m | \u001b[0m24.54    \u001b[0m | \u001b[0m175.3    \u001b[0m | \u001b[0m277.7    \u001b[0m | \u001b[0m0.002293 \u001b[0m |\n",
      "| \u001b[0m33       \u001b[0m | \u001b[0m-0.01408 \u001b[0m | \u001b[0m23.91    \u001b[0m | \u001b[0m1.623e+03\u001b[0m | \u001b[0m107.1    \u001b[0m | \u001b[0m0.004552 \u001b[0m |\n",
      "| \u001b[0m34       \u001b[0m | \u001b[0m-0.004284\u001b[0m | \u001b[0m52.23    \u001b[0m | \u001b[0m535.8    \u001b[0m | \u001b[0m110.2    \u001b[0m | \u001b[0m0.002497 \u001b[0m |\n",
      "| \u001b[0m35       \u001b[0m | \u001b[0m-0.004483\u001b[0m | \u001b[0m6.359    \u001b[0m | \u001b[0m1.617e+03\u001b[0m | \u001b[0m211.7    \u001b[0m | \u001b[0m0.002034 \u001b[0m |\n",
      "| \u001b[0m36       \u001b[0m | \u001b[0m-0.00606 \u001b[0m | \u001b[0m52.32    \u001b[0m | \u001b[0m1.622e+03\u001b[0m | \u001b[0m609.9    \u001b[0m | \u001b[0m0.009156 \u001b[0m |\n",
      "| \u001b[0m37       \u001b[0m | \u001b[0m-0.01236 \u001b[0m | \u001b[0m4.769    \u001b[0m | \u001b[0m1.93e+03 \u001b[0m | \u001b[0m592.4    \u001b[0m | \u001b[0m0.003095 \u001b[0m |\n",
      "| \u001b[0m38       \u001b[0m | \u001b[0m-0.00325 \u001b[0m | \u001b[0m53.02    \u001b[0m | \u001b[0m1.322e+03\u001b[0m | \u001b[0m987.2    \u001b[0m | \u001b[0m0.001164 \u001b[0m |\n",
      "| \u001b[0m39       \u001b[0m | \u001b[0m-0.003733\u001b[0m | \u001b[0m37.6     \u001b[0m | \u001b[0m950.9    \u001b[0m | \u001b[0m669.7    \u001b[0m | \u001b[0m0.002494 \u001b[0m |\n",
      "| \u001b[0m40       \u001b[0m | \u001b[0m-0.007775\u001b[0m | \u001b[0m2.961    \u001b[0m | \u001b[0m1.093e+03\u001b[0m | \u001b[0m396.5    \u001b[0m | \u001b[0m0.008934 \u001b[0m |\n",
      "| \u001b[0m41       \u001b[0m | \u001b[0m-0.005768\u001b[0m | \u001b[0m29.94    \u001b[0m | \u001b[0m843.1    \u001b[0m | \u001b[0m651.3    \u001b[0m | \u001b[0m0.005319 \u001b[0m |\n",
      "| \u001b[0m42       \u001b[0m | \u001b[0m-0.005873\u001b[0m | \u001b[0m61.56    \u001b[0m | \u001b[0m1.58e+03 \u001b[0m | \u001b[0m521.9    \u001b[0m | \u001b[0m0.00219  \u001b[0m |\n",
      "| \u001b[0m43       \u001b[0m | \u001b[0m-0.004999\u001b[0m | \u001b[0m39.05    \u001b[0m | \u001b[0m1.5e+03  \u001b[0m | \u001b[0m768.1    \u001b[0m | \u001b[0m0.009936 \u001b[0m |\n",
      "| \u001b[0m44       \u001b[0m | \u001b[0m-0.005677\u001b[0m | \u001b[0m14.77    \u001b[0m | \u001b[0m857.0    \u001b[0m | \u001b[0m452.7    \u001b[0m | \u001b[0m0.003255 \u001b[0m |\n",
      "| \u001b[0m45       \u001b[0m | \u001b[0m-0.004114\u001b[0m | \u001b[0m24.02    \u001b[0m | \u001b[0m961.1    \u001b[0m | \u001b[0m565.0    \u001b[0m | \u001b[0m0.002726 \u001b[0m |\n",
      "| \u001b[0m46       \u001b[0m | \u001b[0m-0.004132\u001b[0m | \u001b[0m9.465    \u001b[0m | \u001b[0m610.8    \u001b[0m | \u001b[0m179.7    \u001b[0m | \u001b[0m0.003245 \u001b[0m |\n",
      "| \u001b[0m47       \u001b[0m | \u001b[0m-0.005853\u001b[0m | \u001b[0m43.79    \u001b[0m | \u001b[0m1.207e+03\u001b[0m | \u001b[0m997.4    \u001b[0m | \u001b[0m0.005653 \u001b[0m |\n",
      "| \u001b[0m48       \u001b[0m | \u001b[0m-0.009023\u001b[0m | \u001b[0m35.57    \u001b[0m | \u001b[0m1.288e+03\u001b[0m | \u001b[0m740.4    \u001b[0m | \u001b[0m0.006197 \u001b[0m |\n",
      "| \u001b[0m49       \u001b[0m | \u001b[0m-0.004638\u001b[0m | \u001b[0m38.08    \u001b[0m | \u001b[0m1.214e+03\u001b[0m | \u001b[0m387.0    \u001b[0m | \u001b[0m0.007796 \u001b[0m |\n",
      "| \u001b[0m50       \u001b[0m | \u001b[0m-0.004035\u001b[0m | \u001b[0m39.09    \u001b[0m | \u001b[0m625.4    \u001b[0m | \u001b[0m283.3    \u001b[0m | \u001b[0m0.0008055\u001b[0m |\n",
      "| \u001b[0m51       \u001b[0m | \u001b[0m-0.04296 \u001b[0m | \u001b[0m22.91    \u001b[0m | \u001b[0m35.57    \u001b[0m | \u001b[0m207.4    \u001b[0m | \u001b[0m0.0006976\u001b[0m |\n",
      "| \u001b[0m52       \u001b[0m | \u001b[0m-0.00448 \u001b[0m | \u001b[0m18.52    \u001b[0m | \u001b[0m703.2    \u001b[0m | \u001b[0m611.7    \u001b[0m | \u001b[0m0.007773 \u001b[0m |\n",
      "| \u001b[0m53       \u001b[0m | \u001b[0m-0.006359\u001b[0m | \u001b[0m40.36    \u001b[0m | \u001b[0m327.8    \u001b[0m | \u001b[0m899.1    \u001b[0m | \u001b[0m0.007333 \u001b[0m |\n",
      "| \u001b[0m54       \u001b[0m | \u001b[0m-0.003884\u001b[0m | \u001b[0m32.36    \u001b[0m | \u001b[0m1.291e+03\u001b[0m | \u001b[0m534.0    \u001b[0m | \u001b[0m0.001765 \u001b[0m |\n",
      "| \u001b[0m55       \u001b[0m | \u001b[0m-0.00347 \u001b[0m | \u001b[0m41.41    \u001b[0m | \u001b[0m1.976e+03\u001b[0m | \u001b[0m781.8    \u001b[0m | \u001b[0m0.001897 \u001b[0m |\n",
      "| \u001b[0m56       \u001b[0m | \u001b[0m-0.008854\u001b[0m | \u001b[0m8.545    \u001b[0m | \u001b[0m1.861e+03\u001b[0m | \u001b[0m914.6    \u001b[0m | \u001b[0m0.007517 \u001b[0m |\n",
      "| \u001b[0m57       \u001b[0m | \u001b[0m-0.005349\u001b[0m | \u001b[0m48.91    \u001b[0m | \u001b[0m294.3    \u001b[0m | \u001b[0m821.3    \u001b[0m | \u001b[0m0.002004 \u001b[0m |\n",
      "| \u001b[0m58       \u001b[0m | \u001b[0m-0.008416\u001b[0m | \u001b[0m10.75    \u001b[0m | \u001b[0m820.1    \u001b[0m | \u001b[0m50.36    \u001b[0m | \u001b[0m0.008471 \u001b[0m |\n",
      "| \u001b[0m59       \u001b[0m | \u001b[0m-0.004892\u001b[0m | \u001b[0m11.15    \u001b[0m | \u001b[0m1.481e+03\u001b[0m | \u001b[0m603.8    \u001b[0m | \u001b[0m0.007726 \u001b[0m |\n",
      "| \u001b[0m60       \u001b[0m | \u001b[0m-0.003942\u001b[0m | \u001b[0m38.8     \u001b[0m | \u001b[0m1.923e+03\u001b[0m | \u001b[0m410.8    \u001b[0m | \u001b[0m0.00502  \u001b[0m |\n",
      "| \u001b[0m61       \u001b[0m | \u001b[0m-0.009095\u001b[0m | \u001b[0m38.16    \u001b[0m | \u001b[0m326.9    \u001b[0m | \u001b[0m899.5    \u001b[0m | \u001b[0m0.001    \u001b[0m |\n",
      "| \u001b[0m62       \u001b[0m | \u001b[0m-0.01065 \u001b[0m | \u001b[0m52.35    \u001b[0m | \u001b[0m1.597e+03\u001b[0m | \u001b[0m105.4    \u001b[0m | \u001b[0m0.008056 \u001b[0m |\n",
      "| \u001b[0m63       \u001b[0m | \u001b[0m-0.003348\u001b[0m | \u001b[0m48.37    \u001b[0m | \u001b[0m1.971e+03\u001b[0m | \u001b[0m786.4    \u001b[0m | \u001b[0m0.002019 \u001b[0m |\n",
      "| \u001b[0m64       \u001b[0m | \u001b[0m-0.005128\u001b[0m | \u001b[0m31.09    \u001b[0m | \u001b[0m1.594e+03\u001b[0m | \u001b[0m87.15    \u001b[0m | \u001b[0m0.009199 \u001b[0m |\n",
      "| \u001b[0m65       \u001b[0m | \u001b[0m-0.005214\u001b[0m | \u001b[0m44.1     \u001b[0m | \u001b[0m1.589e+03\u001b[0m | \u001b[0m92.13    \u001b[0m | \u001b[0m0.005553 \u001b[0m |\n",
      "| \u001b[0m66       \u001b[0m | \u001b[0m-0.004392\u001b[0m | \u001b[0m59.79    \u001b[0m | \u001b[0m1.315e+03\u001b[0m | \u001b[0m995.5    \u001b[0m | \u001b[0m0.001836 \u001b[0m |\n",
      "| \u001b[0m67       \u001b[0m | \u001b[0m-0.004559\u001b[0m | \u001b[0m44.12    \u001b[0m | \u001b[0m1.977e+03\u001b[0m | \u001b[0m798.8    \u001b[0m | \u001b[0m0.009654 \u001b[0m |\n",
      "| \u001b[0m68       \u001b[0m | \u001b[0m-0.005343\u001b[0m | \u001b[0m60.56    \u001b[0m | \u001b[0m327.4    \u001b[0m | \u001b[0m893.9    \u001b[0m | \u001b[0m0.004112 \u001b[0m |\n",
      "| \u001b[0m69       \u001b[0m | \u001b[0m-0.004823\u001b[0m | \u001b[0m48.53    \u001b[0m | \u001b[0m328.5    \u001b[0m | \u001b[0m885.4    \u001b[0m | \u001b[0m0.004047 \u001b[0m |\n",
      "| \u001b[0m70       \u001b[0m | \u001b[0m-0.003968\u001b[0m | \u001b[0m52.85    \u001b[0m | \u001b[0m348.3    \u001b[0m | \u001b[0m898.8    \u001b[0m | \u001b[0m0.002147 \u001b[0m |\n",
      "| \u001b[0m71       \u001b[0m | \u001b[0m-0.004997\u001b[0m | \u001b[0m63.59    \u001b[0m | \u001b[0m1.611e+03\u001b[0m | \u001b[0m84.54    \u001b[0m | \u001b[0m0.009844 \u001b[0m |\n",
      "| \u001b[0m72       \u001b[0m | \u001b[0m-0.00341 \u001b[0m | \u001b[0m36.47    \u001b[0m | \u001b[0m1.333e+03\u001b[0m | \u001b[0m992.5    \u001b[0m | \u001b[0m0.004627 \u001b[0m |\n",
      "| \u001b[0m73       \u001b[0m | \u001b[0m-0.004718\u001b[0m | \u001b[0m38.76    \u001b[0m | \u001b[0m1.958e+03\u001b[0m | \u001b[0m792.1    \u001b[0m | \u001b[0m0.008786 \u001b[0m |\n",
      "| \u001b[0m74       \u001b[0m | \u001b[0m-0.004658\u001b[0m | \u001b[0m53.82    \u001b[0m | \u001b[0m334.8    \u001b[0m | \u001b[0m912.9    \u001b[0m | \u001b[0m0.01     \u001b[0m |\n",
      "| \u001b[0m75       \u001b[0m | \u001b[0m-0.005732\u001b[0m | \u001b[0m32.28    \u001b[0m | \u001b[0m1.574e+03\u001b[0m | \u001b[0m102.0    \u001b[0m | \u001b[0m0.008531 \u001b[0m |\n",
      "=========================================================================\n",
      "<bayes_opt.bayesian_optimization.BayesianOptimization object at 0x000002434D2EEEE0>\n"
     ]
    }
   ],
   "source": [
    "warnings.filterwarnings('ignore')\n",
    "seed_tensorflow(42)\n",
    "\n",
    "# Import dataset\n",
    "x, y = data_import(r'C:\\Users\\wingt\\Downloads\\S11_along_BD_205.csv')\n",
    "\n",
    "# Pre-processing\n",
    "model_type, Proc_X_train, Proc_Y_train, Proc_X_test, Y_test = pre_processing('ANN2', x, y)\n",
    "\n",
    "# Run Bayesian Optimization: find maximum value of unknown function by a few iteration\n",
    "params_nn ={\n",
    "     'N_hidden_nodes': (10, 2000),\n",
    "     'l_rate':(0.0001, 0.01),\n",
    "     'Batch_size':(1, 64),\n",
    "     'epochs':(50, 1000),\n",
    " }\n",
    "nn_bo = BayesianOptimization(nn_cl_bo, params_nn, random_state=5)\n",
    "nn_bo.maximize(init_points=60, n_iter=15)\n",
    "params_nn_ = nn_bo.max['params']\n",
    "print(nn_bo)"
   ]
  },
  {
   "cell_type": "code",
   "execution_count": 23,
   "id": "e6b10f8e-91c5-40b3-8db9-13e821a2c208",
   "metadata": {},
   "outputs": [
    {
     "name": "stdout",
     "output_type": "stream",
     "text": [
      "{'target': -0.0028684139251708984, 'params': {'Batch_size': 35.420575958070835, 'N_hidden_nodes': 1594.3240145034483, 'epochs': 98.58566294627975, 'l_rate': 0.0019678105843517683}}\n"
     ]
    }
   ],
   "source": [
    "print(nn_bo.max)"
   ]
  },
  {
   "cell_type": "raw",
   "id": "ea63e2f5-bc40-46e3-b4f3-be5dc21deac6",
   "metadata": {},
   "source": [
    "# Fix ramdom seed\n",
    "warnings.filterwarnings('ignore')\n",
    "seed_tensorflow(42)\n",
    "\n",
    "# Import dataset\n",
    "x, y = data_import(r'C:\\Users\\wingt\\Downloads\\S11_along_BD_205.csv')\n",
    "\n",
    "# Pre-processing\n",
    "model_type, Proc_X_train, Proc_Y_train, Proc_X_test, Y_test = pre_processing('ANN2', x, y)\n",
    "\n",
    "# Run Bayesian Optimization: find maximum value of unknown function by a few iteration\n",
    "# params_nn ={\n",
    "#     'N_hidden_nodes': (10, 2000),\n",
    "#     'l_rate':(0.0001, 0.01),\n",
    "#     'Batch_size':(1, 64),\n",
    "#     'epochs':(50, 1000),\n",
    "# }\n",
    "# print(nn_cl_bo(723, 0.000111, 27))\n",
    "# nn_bo = BayesianOptimization(nn_cl_bo, params_nn, random_state=5)\n",
    "# nn_bo.maximize(init_points=60, n_iter=15)\n",
    "# params_nn_ = nn_bo.max['params']\n",
    "# print(nn_bo)\n",
    "\n",
    "# Grid search: same thing as Bayesian Optimisation\n",
    "# tune_optimizer()\n",
    "# tune_other_para()\n",
    "\n",
    "# Build model and Predict\n",
    "ANN, predict_test_scal,predict_test, history = get_result(model_type, Proc_X_train, Proc_Y_train, Proc_X_test,\n",
    "                                      1000, 8, 1000, 0.001)\n",
    "Y_test_scal = scaler_Y.transform(Y_test.values.reshape(-1,1)).reshape(-1, 21)\n",
    "MSE_R_scal = MSE(Y_test_scal, predict_test_scal)\n",
    "MSE_R = MSE(Y_test.values, predict_test)\n",
    "print(MSE_R_scal)\n",
    "print(MSE_R)\n",
    "plot_history(history)\n",
    "\n",
    "# save the model\n",
    "# ANN.save(r'data_analysis/saved_model/ANN.h5')\n",
    "# pickle.dump(scaler_X, open('scaler_X.pkl','wb'))\n",
    "# pickle.dump(scaler_Y, open('scaler_Y.pkl','wb'))\n",
    "\n",
    "# for i in range(len(predict_test)):\n",
    "#     get_plot(Y_test.iloc[i, :], predict_test[i], i)\n",
    "\n",
    "pred_results = []\n",
    "sim_results = []\n",
    "for i in range(len(predict_test)):\n",
    "    for j in range(len(predict_test[0])):\n",
    "        sim_results.append(Y_test.iloc[i, j])\n",
    "        pred_results.append(predict_test[i][j])\n",
    "\n",
    "max_results = max(max(pred_results,sim_results))\n",
    "min_results = min(min(pred_results,sim_results))\n",
    "fig,ax = plt.subplots(figsize=(6,6))\n",
    "ax.plot([min_results, max_results], [min_results, max_results],'b', linewidth=3)\n",
    "ax.scatter(pred_results, sim_results,s=10, c='r')\n",
    "ax.set_xlabel(\"Surrogate model predicted residual stress (MPa)\", fontsize=12)\n",
    "ax.set_ylabel(\"Finite element simulated residual stress (MPa)\", fontsize=12)\n",
    "plt.show()"
   ]
  },
  {
   "cell_type": "code",
   "execution_count": null,
   "id": "6829eab7-861a-4c1a-a47c-33a87191a78a",
   "metadata": {},
   "outputs": [],
   "source": []
  }
 ],
 "metadata": {
  "kernelspec": {
   "display_name": "Python 3 (ipykernel)",
   "language": "python",
   "name": "python3"
  },
  "language_info": {
   "codemirror_mode": {
    "name": "ipython",
    "version": 3
   },
   "file_extension": ".py",
   "mimetype": "text/x-python",
   "name": "python",
   "nbconvert_exporter": "python",
   "pygments_lexer": "ipython3",
   "version": "3.8.20"
  }
 },
 "nbformat": 4,
 "nbformat_minor": 5
}
