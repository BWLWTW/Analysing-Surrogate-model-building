{
 "cells": [
  {
   "cell_type": "markdown",
   "id": "1f0850c1-0616-4272-b377-df4772c5fd88",
   "metadata": {},
   "source": [
    "# Hyperparameter Tuning"
   ]
  },
  {
   "cell_type": "markdown",
   "id": "5f9e49c5-b22a-43d0-b067-07d3822a8d5e",
   "metadata": {},
   "source": [
    "### Step 1: What can be changed?\n",
    "if best optimizer is not adamax, remember to change it in nn_cl_bo and also change the hyperparameter to be tuned\n",
    "* hyperparameter values\n",
    "* Number of iteration before actually searching\n",
    "* Number of searching iteration\n",
    "#### What can be change (not yet done)\n",
    "* Activation function tuning (now is tf.nn.relu)\n",
    "* number of hidden layer (can use iteration/loop)"
   ]
  },
  {
   "cell_type": "code",
   "execution_count": 1,
   "id": "b097a026-2097-4fef-a5fa-291f29fde5d8",
   "metadata": {},
   "outputs": [],
   "source": [
    "params_nn ={\n",
    "     'N_hidden_nodes': (10, 2000),\n",
    "     'l_rate':(0.0001, 0.01),\n",
    "     'Batch_size':(1, 64),\n",
    "     'epochs':(50, 1000),\n",
    " }\n",
    "no_iter_before_conclude=5\n",
    "no_iter_conclude=3\n",
    "datapathway=r\"C:\\Users\\wingt\\Downloads\\S11_along_BD_205.csv\"\n",
    "xstart=3            #column of xstart\n",
    "xstop=5            #column of xend\n",
    "ystart=6           #column of ystart\n",
    "yname='Stress'      # name of the ultimate output array\n",
    "yparameter='Position'       #position here but it will be what is the parameter to be tuned\n",
    "xcolumn=['Travel_length', 'Welding_speed', 'Net_energy_input'] #name of inputs"
   ]
  },
  {
   "cell_type": "markdown",
   "id": "dfcc4e5b-9e8a-41d7-833d-9c0d6bda0cef",
   "metadata": {},
   "source": [
    "### Step 2: Import library"
   ]
  },
  {
   "cell_type": "code",
   "execution_count": 2,
   "id": "91f24f54-ae70-460a-be8c-13724240b380",
   "metadata": {},
   "outputs": [],
   "source": [
    "import numpy as np\n",
    "import pandas as pd\n",
    "import warnings\n",
    "import os\n",
    "import random\n",
    "import pickle\n",
    "# import ML related libraries\n",
    "import tensorflow as tf\n",
    "import keras\n",
    "from keras.models import Sequential\n",
    "from keras.layers.core import Dense, Activation\n",
    "from tensorflow.keras.optimizers import SGD, Adam\n",
    "from keras.models import Model\n",
    "from keras.layers import Dense, Input, Dropout\n",
    "from sklearn.preprocessing import StandardScaler\n",
    "import matplotlib.pyplot as plt\n",
    "from sklearn.model_selection import train_test_split\n",
    "from sklearn.model_selection import GridSearchCV\n",
    "from sklearn.model_selection import cross_val_score\n",
    "from sklearn.model_selection import KFold\n",
    "from keras.wrappers.scikit_learn import KerasRegressor\n",
    "from keras.callbacks import EarlyStopping, ModelCheckpoint\n",
    "from bayes_opt import BayesianOptimization\n",
    "# import plotting related libraries\n",
    "from matplotlib.lines import Line2D\n",
    "import matplotlib.pyplot as plt\n",
    "from scipy import interpolate"
   ]
  },
  {
   "cell_type": "markdown",
   "id": "3960f30b-0024-433a-b949-e115c73310e0",
   "metadata": {},
   "source": [
    "### Step 3: import data + preprocessing\n",
    "import the data using pd.read_csv\n",
    "only get columns required\n",
    "assign column names\n",
    "get y data for training as well"
   ]
  },
  {
   "cell_type": "code",
   "execution_count": 3,
   "id": "383156d4-0b1b-4e58-a1a2-04050456de43",
   "metadata": {},
   "outputs": [],
   "source": [
    "def data_import(csv_file_name):\n",
    "    '''\n",
    "    used to import dataset and split training and test dataset\n",
    "    csv_file_name is the dateset root\n",
    "    reture traing and test datasets\n",
    "    '''\n",
    "    raw_data = pd.read_csv(csv_file_name,header=None).dropna()\n",
    "    x = raw_data.iloc[:,xstart:(xstop+1)]\n",
    "    #x.columns = xcolumn\n",
    "    y = raw_data.iloc[:,ystart:]\n",
    "    return x, y"
   ]
  },
  {
   "cell_type": "markdown",
   "id": "47b25972-ff6a-480a-8333-82e6c0bd99e3",
   "metadata": {},
   "source": [
    "### Step 4: Neural Network training for Bayesian Optimisation\n",
    "use a function for defning the machine name and parameters for the machine\n",
    "use KerasRegressor to build the machine with specified hyperparameters\n",
    "use processed training input and output (will define function to make them later) for training the model\n",
    "history is the name of the model\n",
    "return a scoe showing cross validation mse"
   ]
  },
  {
   "cell_type": "code",
   "execution_count": 4,
   "id": "5ee36b20-498f-4940-b0c3-6597f2f5c374",
   "metadata": {},
   "outputs": [],
   "source": [
    "def nn_cl_bo(N_hidden_nodes, l_rate, Batch_size, epochs):\n",
    "    '''\n",
    "    Using certain number of neurons, learning rate and Batch size\n",
    "    to train a NN and return its cross validation MSE\n",
    "    inputs:\n",
    "        N_hidden_nodes: number of neurons\n",
    "        l_rate: learning rate\n",
    "        Batch_size: Batch size\n",
    "    output:\n",
    "        score: cross validation MSE\n",
    "    '''\n",
    "    N_hidden_nodes = round(N_hidden_nodes)\n",
    "    Batch_size = round(Batch_size)\n",
    "    def nn_cl_fun():\n",
    "        nn = keras.Sequential([\n",
    "            keras.layers.Dense(N_hidden_nodes, activation=tf.nn.relu, input_shape=(4,)),\n",
    "        # keras.layers.Dropout(0.5),\n",
    "            keras.layers.Dense(1, activation='linear')\n",
    "        ])\n",
    "        nn.compile(loss='mse',\n",
    "                    optimizer=tf.keras.optimizers.Adamax(learning_rate=l_rate, beta_1=0.9, beta_2=0.99, epsilon=1e-08, decay=0.0),\n",
    "                    metrics=['mse'])\n",
    "        return nn\n",
    "    nn = KerasRegressor(build_fn=nn_cl_fun, epochs=epochs, batch_size=Batch_size,\n",
    "                        verbose=0)\n",
    "    history = nn.fit(H_X_train, H_Y_train, batch_size=Batch_size, epochs=1000, \n",
    "                        verbose=0, validation_split=0.1)\n",
    "    score = -history.history['val_loss'][-1]\n",
    "    return score"
   ]
  },
  {
   "cell_type": "code",
   "execution_count": 5,
   "id": "2adc9b3c-559f-433f-91bf-72262261a60f",
   "metadata": {},
   "outputs": [],
   "source": [
    "def create_model_2(N_hidden_nodes, l_rate, Batch_size, epochs):\n",
    "    '''\n",
    "    Build a NN\n",
    "    inputs:\n",
    "        N_hidden_nodes: number of neurons\n",
    "        input_dim: number of inputs\n",
    "        N_outputs: number of outputs\n",
    "        l_rate: learning rate\n",
    "        Batch_size: Batch size\n",
    "    outputs:\n",
    "        model: Trained model\n",
    "        history: training history\n",
    "    '''\n",
    "    model = keras.Sequential([\n",
    "        keras.layers.Dense(N_hidden_nodes, activation=tf.nn.leaky_relu, input_shape=(4,)),\n",
    "        keras.layers.Dense(21,activation='linear')\n",
    "    ])\n",
    "    optimizer=tf.keras.optimizers.Adamax(learning_rate=l_rate, beta_1=0.9, beta_2=0.99, epsilon=1e-08, decay=0.0)\n",
    "    model.compile(loss='mse',\n",
    "                optimizer=optimizer,\n",
    "                metrics=['mse'])\n",
    "    model.summary()\n",
    "    model.fit(Proc_X_train, Proc_Y_train, batch_size=Batch_size, epochs=epochs, \n",
    "                        verbose=0, validation_split=0.1)\n",
    "    return model\n"
   ]
  },
  {
   "cell_type": "markdown",
   "id": "5b9b37c9-3461-40c4-97cd-c1ae358227a4",
   "metadata": {},
   "source": [
    "### Step 5: Uniform Spaced Sampling (Just for this database)"
   ]
  },
  {
   "cell_type": "code",
   "execution_count": 6,
   "id": "e389e884-c838-45ee-8257-7a4415d0555c",
   "metadata": {},
   "outputs": [],
   "source": [
    "def uniformly_spaced_sampling(y_label, y_label_new, y):\n",
    "    '''\n",
    "    fit and interpolate\n",
    "    '''\n",
    "    f = interpolate.interp1d(y_label, y, kind='linear') # linear interpolation function use first row of y and all of y -> linear interpolate location and y value\n",
    "    ynew=pd.DataFrame(f(y_label_new)) #first row of y (linear distributed) -> linearly interpolate(predict) when in evenly distributed location, what r y\n",
    "    return ynew"
   ]
  },
  {
   "cell_type": "markdown",
   "id": "ea3fc473-f9e8-41bb-bef7-9f5f5551103e",
   "metadata": {},
   "source": [
    "### Step 6: assign column names to data set \n",
    "can see only one column of y here"
   ]
  },
  {
   "cell_type": "code",
   "execution_count": 7,
   "id": "3aa92f38-e177-4227-a397-b9edc4145bc8",
   "metadata": {},
   "outputs": [],
   "source": [
    "def data_melt(x, y):\n",
    "    '''\n",
    "    Add position as input\n",
    "    input:\n",
    "        x: old input \n",
    "        y: old output\n",
    "    output:\n",
    "        x_new: new input \n",
    "        y_new: new output\n",
    "    '''\n",
    "    y_label_str = [str(x) for x in y_label_new] # make a list of string of y_label_new\n",
    "    dataset = pd.concat([x, y],axis=1, ignore_index=True)\n",
    "    col_names = xcolumn + y_label_str\n",
    "    dataset.columns = col_names\n",
    "    dataset = dataset.melt(id_vars=xcolumn, \n",
    "        var_name=yparameter, \n",
    "        value_name=yname) #for given welding parameter, in a given location, the stress is in this dataset\n",
    "    x_new = dataset.iloc[:, 0:(len(xcolumn)+1)]\n",
    "    y_new = dataset.iloc[:, (len(xcolumn)+1)]\n",
    "    return x_new, y_new"
   ]
  },
  {
   "cell_type": "markdown",
   "id": "cc98e1e2-4c77-42ba-8f2d-aa99cbec5b04",
   "metadata": {},
   "source": [
    "### Step 7: Define a function getting y(output) label (not for us again)\n",
    "use y in the csv\n",
    "the first row of that csv is y_lab\n",
    "y_lab_new is min to max of y_lab in length of y_lab"
   ]
  },
  {
   "cell_type": "code",
   "execution_count": 8,
   "id": "8d966a7f-cc89-4296-a3dd-d2bb2ccff1a4",
   "metadata": {},
   "outputs": [],
   "source": [
    "def get_y_lable(root):\n",
    "    '''\n",
    "    Create an array for uniform interval depth \n",
    "    (Used biased mesh in simulaiton, so the sample point depth is not uniform) \n",
    "    input:\n",
    "        root: file root contains the sample point depth information\n",
    "    outputs:\n",
    "        y_lab: old sample point position array\n",
    "        y_lab_new: new sample point position array\n",
    "    '''\n",
    "    x, y = data_import(root)\n",
    "    y_lab = y.iloc[0, :]\n",
    "    y_lab_new = np.linspace(round(min(y_lab),2), \n",
    "                              round(max(y_lab),2), \n",
    "                              round(len(y_lab),2))\n",
    "    return y_lab, y_lab_new\n",
    "    "
   ]
  },
  {
   "cell_type": "markdown",
   "id": "08708d5c-00d0-42ab-96fd-a8538a9a8119",
   "metadata": {},
   "source": [
    "### Step 8: Hyperparameter tuning: Data Prepocessing function"
   ]
  },
  {
   "cell_type": "code",
   "execution_count": 9,
   "id": "272701b5-e0a1-4e41-a3b8-0d50ec6e04b2",
   "metadata": {},
   "outputs": [],
   "source": [
    "def H_pre_processing(model_type, x, y):\n",
    "    '''\n",
    "    Data preprocessing (Uniformly spaced sampling, normalisation, train test split)\n",
    "    inputs:\n",
    "        model_type: 'ANN1' the first architecture (3 inputs and 21 outputs)\n",
    "                    'ANN2' the second architecture (4 inputs and 1 output)        \n",
    "        x: a dataframe of inputs of the whole dataset\n",
    "        y: a dataframe of outputs of the whole dataset\n",
    "    outputs:\n",
    "        model_type: 'ANN1' the first architecture (3 inputs and 21 outputs)\n",
    "                    'ANN2' the second architecture (4 inputs and 1 output)\n",
    "        Proc_X_train: Processed Training input\n",
    "        Proc_Y_train: Processed Training output\n",
    "        Proc_X_test: Processed Test input\n",
    "        Y_test: Test output\n",
    "    '''\n",
    "      # uniformly_spaced_sampling\n",
    "    global y_label, y_label_new\n",
    "    y_label, y_label_new = get_y_lable(r'C:\\Users\\wingt\\Downloads\\benchmark_BD1.csv')\n",
    "    y = uniformly_spaced_sampling(y_label, y_label_new, y)\n",
    "\n",
    "    # Split dataset\n",
    "    # X_train, X_test, Y_train, Y_test = train_test_split(x,y,test_size=1/125.0, random_state=3)\n",
    "    Y_train = uniformly_spaced_sampling(y_label, y_label_new, y)\n",
    "    # data reconstruction\n",
    "    if 'ANN2' in model_type:\n",
    "        X_train, Y_train = data_melt(x, y)\n",
    "\n",
    "    # Normalization\n",
    "    global scaler_X, scaler_Y\n",
    "    scaler_X = StandardScaler()\n",
    "    scaler_Y = StandardScaler()\n",
    "    scaled_train_X = scaler_X.fit_transform(X_train.to_numpy())\n",
    "    if Y_train.ndim == 1:\n",
    "      Y_train = np.array(Y_train).reshape(-1,1)#column array\n",
    "    scaled_train_Y = scaler_Y.fit_transform(Y_train)\n",
    "    H_X_train = scaled_train_X\n",
    "    H_Y_train = scaled_train_Y\n",
    "    return model_type, H_X_train, H_Y_train"
   ]
  },
  {
   "cell_type": "markdown",
   "id": "f16200cb-6212-474d-a2fb-be7d67b9a95f",
   "metadata": {},
   "source": [
    "### Step 9: fix random seed"
   ]
  },
  {
   "cell_type": "code",
   "execution_count": 10,
   "id": "0cf2a92d-d8c3-4a8c-880b-6cb97d04439d",
   "metadata": {},
   "outputs": [],
   "source": [
    "def seed_tensorflow(seed):\n",
    "    '''\n",
    "    Fix ramdom seed\n",
    "    '''\n",
    "    random.seed(seed)\n",
    "    np.random.seed(seed)\n",
    "    tf.random.set_seed(seed)\n",
    "    os.environ['TF_DETERMINISTIC_OPS'] = '1'\n",
    "    os.environ['PYTHONHASHSEED'] = str(seed)\n",
    "warnings.filterwarnings('ignore')\n",
    "seed_tensorflow(42)"
   ]
  },
  {
   "cell_type": "markdown",
   "id": "4aa94d0c-d4f3-4993-b24c-f0777935c519",
   "metadata": {},
   "source": [
    "### Step 10: Import data from the address and tune hyperparameter\n",
    "* print out the processes\n",
    "* print out best parameters"
   ]
  },
  {
   "cell_type": "code",
   "execution_count": 11,
   "id": "2a5f9351-207b-4824-8a56-d5fdeb0de254",
   "metadata": {},
   "outputs": [
    {
     "name": "stdout",
     "output_type": "stream",
     "text": [
      "|   iter    |  target   | Batch_... | N_hidd... |  epochs   |  l_rate   |\n",
      "-------------------------------------------------------------------------\n",
      "| \u001b[0m1        \u001b[0m | \u001b[0m-0.00949 \u001b[0m | \u001b[0m14.99    \u001b[0m | \u001b[0m1.743e+03\u001b[0m | \u001b[0m246.4    \u001b[0m | \u001b[0m0.009194 \u001b[0m |\n",
      "| \u001b[95m2        \u001b[0m | \u001b[95m-0.004029\u001b[0m | \u001b[95m31.77    \u001b[0m | \u001b[95m1.227e+03\u001b[0m | \u001b[95m777.6    \u001b[0m | \u001b[95m0.005232 \u001b[0m |\n",
      "| \u001b[0m3        \u001b[0m | \u001b[0m-0.00701 \u001b[0m | \u001b[0m19.7     \u001b[0m | \u001b[0m383.6    \u001b[0m | \u001b[0m126.7    \u001b[0m | \u001b[0m0.007411 \u001b[0m |\n",
      "| \u001b[0m4        \u001b[0m | \u001b[0m-0.008331\u001b[0m | \u001b[0m28.8     \u001b[0m | \u001b[0m325.0    \u001b[0m | \u001b[0m885.9    \u001b[0m | \u001b[0m0.002813 \u001b[0m |\n",
      "| \u001b[0m5        \u001b[0m | \u001b[0m-0.01269 \u001b[0m | \u001b[0m27.1     \u001b[0m | \u001b[0m599.2    \u001b[0m | \u001b[0m647.3    \u001b[0m | \u001b[0m0.00584  \u001b[0m |\n",
      "| \u001b[95m6        \u001b[0m | \u001b[95m-0.003256\u001b[0m | \u001b[95m31.24    \u001b[0m | \u001b[95m1.225e+03\u001b[0m | \u001b[95m782.8    \u001b[0m | \u001b[95m0.001124 \u001b[0m |\n",
      "| \u001b[0m7        \u001b[0m | \u001b[0m-0.005271\u001b[0m | \u001b[0m26.76    \u001b[0m | \u001b[0m1.212e+03\u001b[0m | \u001b[0m818.4    \u001b[0m | \u001b[0m0.007304 \u001b[0m |\n",
      "| \u001b[0m8        \u001b[0m | \u001b[0m-0.004179\u001b[0m | \u001b[0m57.78    \u001b[0m | \u001b[0m1.207e+03\u001b[0m | \u001b[0m784.4    \u001b[0m | \u001b[0m0.00112  \u001b[0m |\n",
      "=========================================================================\n",
      "<bayes_opt.bayesian_optimization.BayesianOptimization object at 0x00000298809CE430>\n"
     ]
    }
   ],
   "source": [
    "# Import dataset\n",
    "x, y = data_import(datapathway)\n",
    "# Pre-processing\n",
    "model_type, H_X_train, H_Y_train = H_pre_processing('ANN2', x, y)\n",
    "# Run Bayesian Optimization: find maximum value of unknown function by a few iteration\n",
    "nn_bo = BayesianOptimization(nn_cl_bo, params_nn, random_state=5)\n",
    "nn_bo.maximize(init_points=no_iter_before_conclude, n_iter=no_iter_conclude)\n",
    "params_nn_ = nn_bo.max['params']\n",
    "print(nn_bo)"
   ]
  },
  {
   "cell_type": "markdown",
   "id": "3cc801f0-8bcf-4eac-8e7e-e2e601f55ec8",
   "metadata": {},
   "source": [
    "### Step 11: Print out all related information from best hyperparameter combination"
   ]
  },
  {
   "cell_type": "code",
   "execution_count": 12,
   "id": "e6b10f8e-91c5-40b3-8db9-13e821a2c208",
   "metadata": {},
   "outputs": [
    {
     "name": "stdout",
     "output_type": "stream",
     "text": [
      "{'target': -0.0032559549435973167, 'params': {'Batch_size': 31.24466415103516, 'N_hidden_nodes': 1225.0286866845124, 'epochs': 782.7979890818565, 'l_rate': 0.0011242803540236787}}\n"
     ]
    }
   ],
   "source": [
    "print(nn_bo.max)"
   ]
  },
  {
   "cell_type": "code",
   "execution_count": null,
   "id": "e1fb0964-7f11-4024-9991-b8def6c08782",
   "metadata": {},
   "outputs": [],
   "source": []
  }
 ],
 "metadata": {
  "kernelspec": {
   "display_name": "Python 3 (ipykernel)",
   "language": "python",
   "name": "python3"
  },
  "language_info": {
   "codemirror_mode": {
    "name": "ipython",
    "version": 3
   },
   "file_extension": ".py",
   "mimetype": "text/x-python",
   "name": "python",
   "nbconvert_exporter": "python",
   "pygments_lexer": "ipython3",
   "version": "3.8.20"
  }
 },
 "nbformat": 4,
 "nbformat_minor": 5
}
