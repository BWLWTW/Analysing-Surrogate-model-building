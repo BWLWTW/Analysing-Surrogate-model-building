{
 "cells": [
  {
   "cell_type": "markdown",
   "id": "dfcc4e5b-9e8a-41d7-833d-9c0d6bda0cef",
   "metadata": {},
   "source": [
    "# Step 1: change the following and what i will mention\n",
    "* the columns of x, y\n",
    "* the sampling method(no more linear interpolation function)\n",
    "* preprocess and get label function"
   ]
  },
  {
   "cell_type": "code",
   "execution_count": 1,
   "id": "dab2b570-1f5d-44b2-ad44-74ac2a5acf86",
   "metadata": {},
   "outputs": [],
   "source": [
    "datapathway=r\"C:\\Users\\wingt\\Downloads\\S11_along_BD_205.csv\"\n",
    "xstart=3#column of xstart\n",
    "xstop=5 #column of xend\n",
    "ystart=6#column of ystart\n",
    "yname='Stress'\n",
    "yparameter='Position'\n",
    "xcolumn=['Travel_length', 'Welding_speed', 'Net_energy_input']"
   ]
  },
  {
   "cell_type": "code",
   "execution_count": 2,
   "id": "91f24f54-ae70-460a-be8c-13724240b380",
   "metadata": {},
   "outputs": [],
   "source": [
    "import numpy as np\n",
    "import pandas as pd\n",
    "import warnings\n",
    "import os\n",
    "import random\n",
    "import pickle\n",
    "# import ML related libraries\n",
    "import tensorflow as tf\n",
    "import keras\n",
    "from keras.models import Sequential\n",
    "from keras.layers.core import Dense, Activation\n",
    "from tensorflow.keras.optimizers import SGD, Adam\n",
    "from keras.models import Model\n",
    "from keras.layers import Dense, Input, Dropout\n",
    "from sklearn.preprocessing import StandardScaler\n",
    "import matplotlib.pyplot as plt\n",
    "import sklearn\n",
    "from sklearn.model_selection import train_test_split\n",
    "from sklearn.model_selection import GridSearchCV\n",
    "from sklearn.model_selection import cross_val_score\n",
    "from sklearn.model_selection import KFold\n",
    "from keras.wrappers.scikit_learn import KerasRegressor\n",
    "from keras.callbacks import EarlyStopping, ModelCheckpoint\n",
    "from matplotlib.lines import Line2D\n",
    "import matplotlib.pyplot as plt\n",
    "from scipy import interpolate"
   ]
  },
  {
   "cell_type": "markdown",
   "id": "d98b65e3-ae89-435b-af42-5735d0a1b1a9",
   "metadata": {},
   "source": [
    "# Step 3: Tune the Optimizer\n",
    "a function to tune the hyperparameter of the ANN machine-> optimizer\n",
    "model used is from KerasRegressor\n",
    "Used gridsearch cross validation\n",
    "printing the best optimizer name and the score of this machine\n",
    "printing the mean_test_score, std_test_score, parameter for all the optimizer tested"
   ]
  },
  {
   "cell_type": "code",
   "execution_count": 3,
   "id": "fe4a886f-9fde-4b32-9623-e3ccb51f7871",
   "metadata": {},
   "outputs": [],
   "source": [
    "def tune_optimizer():\n",
    "    callbacks = [EarlyStopping(monitor='mse', patience=100, verbose=0),]\n",
    "    model = KerasRegressor(build_fn=create_model, nb_epoch=400, batch_size=10, verbose=0) \n",
    "    optimizer = ['SGD', 'RMSprop', 'Adagrad', 'Adadelta', 'Adam', 'Adamax', 'Nadam'] # 200 hidden nodes\n",
    "    param_grid = dict(optimizer=optimizer) \n",
    "    grid = GridSearchCV(estimator=model, param_grid=param_grid, n_jobs=8)\n",
    "    grid_result = grid.fit(Proc_X_train, Proc_Y_train)\n",
    "    print(\"Best: %f using %s\" % (grid_result.best_score_, grid_result.best_params_)) \n",
    "    for index, value in enumerate(grid_result.cv_results_['mean_test_score']):\n",
    "        print(\"%f (%f) with: %r\" % (grid_result.cv_results_['mean_test_score'][index], grid_result.cv_results_['std_test_score'][index], grid_result.cv_results_['params'][index]))\n",
    "    print(grid_result.scorer_)\n",
    "    print(pd.DataFrame(grid_result.cv_results_,index=optimizer))"
   ]
  },
  {
   "cell_type": "markdown",
   "id": "3960f30b-0024-433a-b949-e115c73310e0",
   "metadata": {},
   "source": [
    "# Step 6: import data + preprocessing\n",
    "import the data using pd.read_csv\n",
    "only get columns required\n",
    "assign column names\n",
    "get y data for training as well"
   ]
  },
  {
   "cell_type": "code",
   "execution_count": 4,
   "id": "383156d4-0b1b-4e58-a1a2-04050456de43",
   "metadata": {},
   "outputs": [],
   "source": [
    "def data_import(csv_file_name):\n",
    "    '''\n",
    "    used to import dataset and split training and test dataset\n",
    "    csv_file_name is the dateset root\n",
    "    reture traing and test datasets\n",
    "    '''\n",
    "    raw_data = pd.read_csv(csv_file_name,header=None).dropna()\n",
    "    x = raw_data.iloc[:,xstart:xstop+1]\n",
    "    x.columns = xcolumn\n",
    "    y = raw_data.iloc[:,ystart:]\n",
    "    return x, y"
   ]
  },
  {
   "cell_type": "markdown",
   "id": "b60193e0-0d01-4b42-be77-8e605e8d7149",
   "metadata": {},
   "source": [
    "# Step 8: function for creating a model for tuning optimiser"
   ]
  },
  {
   "cell_type": "code",
   "execution_count": 5,
   "id": "f0fd0870-1d0b-4b17-846d-8e54132f641d",
   "metadata": {},
   "outputs": [],
   "source": [
    "def create_model(optimizer='adam'):\n",
    "    '''\n",
    "    Build a NN\n",
    "    inputs:\n",
    "        N_hidden_nodes: number of neurons\n",
    "        input_dim: number of inputs\n",
    "        N_outputs: number of outputs\n",
    "        l_rate: learning rate\n",
    "        Batch_size: Batch size\n",
    "    outputs:\n",
    "        model: Trained model\n",
    "        history: training history\n",
    "    '''\n",
    "    model = keras.Sequential([\n",
    "        keras.layers.Dense(200, activation=tf.nn.leaky_relu, input_shape=(4,)),\n",
    "        keras.layers.Dense(21,activation='linear')\n",
    "    ])\n",
    "    model.compile(loss='mse',\n",
    "                optimizer=optimizer,\n",
    "                metrics=['mse'])\n",
    "    model.summary()\n",
    "    return model"
   ]
  },
  {
   "cell_type": "markdown",
   "id": "5b9b37c9-3461-40c4-97cd-c1ae358227a4",
   "metadata": {},
   "source": [
    "# Step 11: Uniform Spaced Sampling"
   ]
  },
  {
   "cell_type": "code",
   "execution_count": 6,
   "id": "e389e884-c838-45ee-8257-7a4415d0555c",
   "metadata": {},
   "outputs": [],
   "source": [
    "def uniformly_spaced_sampling(y_label, y_label_new, y):\n",
    "    '''\n",
    "    fit and interpolate\n",
    "    '''\n",
    "    f = interpolate.interp1d(y_label, y, kind='linear') # linear interpolation function use first row of y and all of y -> linear interpolate location and y value\n",
    "    ynew=pd.DataFrame(f(y_label_new)) #first row of y (linear distributed) -> linearly interpolate(predict) when in evenly distributed location, what r y\n",
    "    return ynew"
   ]
  },
  {
   "cell_type": "markdown",
   "id": "ea3fc473-f9e8-41bb-bef7-9f5f5551103e",
   "metadata": {},
   "source": [
    "# Step 12: assign column names to data set \n",
    "can see only one column of y here"
   ]
  },
  {
   "cell_type": "code",
   "execution_count": 7,
   "id": "3aa92f38-e177-4227-a397-b9edc4145bc8",
   "metadata": {},
   "outputs": [],
   "source": [
    "def data_melt(x, y):\n",
    "    '''\n",
    "    Add position as input\n",
    "    input:\n",
    "        x: old input \n",
    "        y: old output\n",
    "    output:\n",
    "        x_new: new input \n",
    "        y_new: new output\n",
    "    '''\n",
    "    y_label_str = [str(x) for x in y_label_new] # make a list of string of y_label_new\n",
    "    dataset = pd.concat([x, y],axis=1, ignore_index=True)\n",
    "    col_names = xcolumn + y_label_str\n",
    "    dataset.columns = col_names\n",
    "    dataset = dataset.melt(id_vars=xcolumn, \n",
    "        var_name=yparameter, \n",
    "        value_name=yname) #for given welding parameter, in a given location, the stress is in this dataset\n",
    "    x_new = dataset.iloc[:, 0:(len(xcolumn)+1)]\n",
    "    y_new = dataset.iloc[:, (len(xcolumn)+1)]\n",
    "    return x_new, y_new"
   ]
  },
  {
   "cell_type": "markdown",
   "id": "cc98e1e2-4c77-42ba-8f2d-aa99cbec5b04",
   "metadata": {},
   "source": [
    "# Step 14: Define a function getting y(output) label\n",
    "use y in the csv\n",
    "the first row of that csv is y_lab\n",
    "y_lab_new is min to max of y_lab in length of y_lab"
   ]
  },
  {
   "cell_type": "code",
   "execution_count": 8,
   "id": "8d966a7f-cc89-4296-a3dd-d2bb2ccff1a4",
   "metadata": {},
   "outputs": [],
   "source": [
    "def get_y_lable(root):\n",
    "    '''\n",
    "    Create an array for uniform interval depth \n",
    "    (Used biased mesh in simulaiton, so the sample point depth is not uniform) \n",
    "    input:\n",
    "        root: file root contains the sample point depth information\n",
    "    outputs:\n",
    "        y_lab: old sample point position array\n",
    "        y_lab_new: new sample point position array\n",
    "    '''\n",
    "    x, y = data_import(root)\n",
    "    y_lab = y.iloc[0, :]\n",
    "    y_lab_new = np.linspace(round(min(y_lab),2), \n",
    "                              round(max(y_lab),2), \n",
    "                              round(len(y_lab),2))\n",
    "    return y_lab, y_lab_new\n",
    "    "
   ]
  },
  {
   "cell_type": "markdown",
   "id": "08708d5c-00d0-42ab-96fd-a8538a9a8119",
   "metadata": {},
   "source": [
    "# Step 15: Prepocessing function"
   ]
  },
  {
   "cell_type": "code",
   "execution_count": 9,
   "id": "272701b5-e0a1-4e41-a3b8-0d50ec6e04b2",
   "metadata": {},
   "outputs": [],
   "source": [
    "def pre_processing(model_type, x, y):\n",
    "    '''\n",
    "    Data preprocessing (Uniformly spaced sampling, normalisation, train test split)\n",
    "    inputs:\n",
    "        model_type: 'ANN1' the first architecture (3 inputs and 21 outputs)\n",
    "                    'ANN2' the second architecture (4 inputs and 1 output)        \n",
    "        x: a dataframe of inputs of the whole dataset\n",
    "        y: a dataframe of outputs of the whole dataset\n",
    "    outputs:\n",
    "        model_type: 'ANN1' the first architecture (3 inputs and 21 outputs)\n",
    "                    'ANN2' the second architecture (4 inputs and 1 output)\n",
    "        Proc_X_train: Processed Training input\n",
    "        Proc_Y_train: Processed Training output\n",
    "        Proc_X_test: Processed Test input\n",
    "        Y_test: Test output\n",
    "    '''\n",
    "      # uniformly_spaced_sampling\n",
    "    global y_label, y_label_new\n",
    "    y_label, y_label_new = get_y_lable(r'C:\\Users\\wingt\\Downloads\\benchmark_BD1.csv')\n",
    "    y = uniformly_spaced_sampling(y_label, y_label_new, y)\n",
    "\n",
    "    # Split dataset\n",
    "    X_train=0\n",
    "    Y_train=0\n",
    "    X_test=0\n",
    "    Y_test=0\n",
    "    Summoning='X_train,Y_train,X_test,Y_test'.split(',')\n",
    "    Summoningvariables=[X_train,Y_train,X_test,Y_test]\n",
    "    for i,a in enumerate(Summoning):\n",
    "        Summoningvariables[i]=pd.read_csv(r'C:\\\\Users\\\\wingt\\\\Downloads\\\\'+a+'.csv')\n",
    "    Y_train = uniformly_spaced_sampling(y_label, y_label_new, Y_train)\n",
    "    Y_test = uniformly_spaced_sampling(y_label, y_label_new, Y_test)\n",
    "    print( X_train, X_test, Y_train, Y_test )\n",
    "    # data reconstruction\n",
    "    if 'ANN2' in model_type:\n",
    "        X_train, Y_train = data_melt(X_train, Y_train)\n",
    "        X_test, Y_test_1 = data_melt(X_test, Y_test) \n",
    "    # Normalization\n",
    "    global scaler_X, scaler_Y\n",
    "    scaler_X = StandardScaler()\n",
    "    scaler_Y = StandardScaler()\n",
    "    scaled_train_X = scaler_X.fit_transform(X_train)\n",
    "    scaled_test_X = scaler_X.transform(X_test)\n",
    "\n",
    "    if Y_train.ndim == 1:\n",
    "      Y_train = np.array(Y_train).reshape(-1,1)#column array\n",
    "    scaled_train_Y = scaler_Y.fit_transform(Y_train)\n",
    "    Proc_X_train = scaled_train_X\n",
    "    Proc_Y_train = scaled_train_Y\n",
    "    Proc_X_test = scaled_test_X\n",
    "\n",
    "    return model_type, Proc_X_train, Proc_Y_train, Proc_X_test, Y_test"
   ]
  },
  {
   "cell_type": "markdown",
   "id": "f16200cb-6212-474d-a2fb-be7d67b9a95f",
   "metadata": {},
   "source": [
    "# Step 17: fix random seed"
   ]
  },
  {
   "cell_type": "code",
   "execution_count": 10,
   "id": "0cf2a92d-d8c3-4a8c-880b-6cb97d04439d",
   "metadata": {},
   "outputs": [],
   "source": [
    "def seed_tensorflow(seed):\n",
    "    '''\n",
    "    Fix ramdom seed\n",
    "    '''\n",
    "    random.seed(seed)\n",
    "    np.random.seed(seed)\n",
    "    tf.random.set_seed(seed)\n",
    "    os.environ['TF_DETERMINISTIC_OPS'] = '1'\n",
    "    os.environ['PYTHONHASHSEED'] = str(seed)"
   ]
  },
  {
   "cell_type": "markdown",
   "id": "4aa94d0c-d4f3-4993-b24c-f0777935c519",
   "metadata": {},
   "source": [
    "# Step 18: Gather all the thing!\n"
   ]
  },
  {
   "cell_type": "raw",
   "id": "f083d7f4-30fc-40c5-9eba-e0c3ddd418aa",
   "metadata": {},
   "source": []
  },
  {
   "cell_type": "code",
   "execution_count": 11,
   "id": "c8350cc6-c3f8-45b0-9e48-195797e89d92",
   "metadata": {},
   "outputs": [
    {
     "ename": "ValueError",
     "evalue": "x and y arrays must be equal in length along interpolation axis.",
     "output_type": "error",
     "traceback": [
      "\u001b[1;31m---------------------------------------------------------------------------\u001b[0m",
      "\u001b[1;31mValueError\u001b[0m                                Traceback (most recent call last)",
      "Cell \u001b[1;32mIn[11], line 9\u001b[0m\n\u001b[0;32m      6\u001b[0m x, y \u001b[38;5;241m=\u001b[39m data_import(datapathway)\n\u001b[0;32m      8\u001b[0m \u001b[38;5;66;03m# Pre-processing\u001b[39;00m\n\u001b[1;32m----> 9\u001b[0m model_type, Proc_X_train, Proc_Y_train, Proc_X_test, Y_test \u001b[38;5;241m=\u001b[39m \u001b[43mpre_processing\u001b[49m\u001b[43m(\u001b[49m\u001b[38;5;124;43m'\u001b[39;49m\u001b[38;5;124;43mANN2\u001b[39;49m\u001b[38;5;124;43m'\u001b[39;49m\u001b[43m,\u001b[49m\u001b[43m \u001b[49m\u001b[43mx\u001b[49m\u001b[43m,\u001b[49m\u001b[43m \u001b[49m\u001b[43my\u001b[49m\u001b[43m)\u001b[49m\n\u001b[0;32m     10\u001b[0m tune_optimizer()\n",
      "Cell \u001b[1;32mIn[9], line 31\u001b[0m, in \u001b[0;36mpre_processing\u001b[1;34m(model_type, x, y)\u001b[0m\n\u001b[0;32m     29\u001b[0m \u001b[38;5;28;01mfor\u001b[39;00m i,a \u001b[38;5;129;01min\u001b[39;00m \u001b[38;5;28menumerate\u001b[39m(Summoning):\n\u001b[0;32m     30\u001b[0m     Summoningvariables[i]\u001b[38;5;241m=\u001b[39mpd\u001b[38;5;241m.\u001b[39mread_csv(\u001b[38;5;124mr\u001b[39m\u001b[38;5;124m'\u001b[39m\u001b[38;5;124mC:\u001b[39m\u001b[38;5;130;01m\\\\\u001b[39;00m\u001b[38;5;124mUsers\u001b[39m\u001b[38;5;130;01m\\\\\u001b[39;00m\u001b[38;5;124mwingt\u001b[39m\u001b[38;5;130;01m\\\\\u001b[39;00m\u001b[38;5;124mDownloads\u001b[39m\u001b[38;5;130;01m\\\\\u001b[39;00m\u001b[38;5;124m'\u001b[39m\u001b[38;5;241m+\u001b[39ma\u001b[38;5;241m+\u001b[39m\u001b[38;5;124m'\u001b[39m\u001b[38;5;124m.csv\u001b[39m\u001b[38;5;124m'\u001b[39m)\n\u001b[1;32m---> 31\u001b[0m Y_train \u001b[38;5;241m=\u001b[39m \u001b[43muniformly_spaced_sampling\u001b[49m\u001b[43m(\u001b[49m\u001b[43my_label\u001b[49m\u001b[43m,\u001b[49m\u001b[43m \u001b[49m\u001b[43my_label_new\u001b[49m\u001b[43m,\u001b[49m\u001b[43m \u001b[49m\u001b[43mY_train\u001b[49m\u001b[43m)\u001b[49m\n\u001b[0;32m     32\u001b[0m Y_test \u001b[38;5;241m=\u001b[39m uniformly_spaced_sampling(y_label, y_label_new, Y_test)\n\u001b[0;32m     33\u001b[0m \u001b[38;5;28mprint\u001b[39m( X_train, X_test, Y_train, Y_test )\n",
      "Cell \u001b[1;32mIn[6], line 5\u001b[0m, in \u001b[0;36muniformly_spaced_sampling\u001b[1;34m(y_label, y_label_new, y)\u001b[0m\n\u001b[0;32m      1\u001b[0m \u001b[38;5;28;01mdef\u001b[39;00m \u001b[38;5;21muniformly_spaced_sampling\u001b[39m(y_label, y_label_new, y):\n\u001b[0;32m      2\u001b[0m \u001b[38;5;250m    \u001b[39m\u001b[38;5;124;03m'''\u001b[39;00m\n\u001b[0;32m      3\u001b[0m \u001b[38;5;124;03m    fit and interpolate\u001b[39;00m\n\u001b[0;32m      4\u001b[0m \u001b[38;5;124;03m    '''\u001b[39;00m\n\u001b[1;32m----> 5\u001b[0m     f \u001b[38;5;241m=\u001b[39m \u001b[43minterpolate\u001b[49m\u001b[38;5;241;43m.\u001b[39;49m\u001b[43minterp1d\u001b[49m\u001b[43m(\u001b[49m\u001b[43my_label\u001b[49m\u001b[43m,\u001b[49m\u001b[43m \u001b[49m\u001b[43my\u001b[49m\u001b[43m,\u001b[49m\u001b[43m \u001b[49m\u001b[43mkind\u001b[49m\u001b[38;5;241;43m=\u001b[39;49m\u001b[38;5;124;43m'\u001b[39;49m\u001b[38;5;124;43mlinear\u001b[39;49m\u001b[38;5;124;43m'\u001b[39;49m\u001b[43m)\u001b[49m \u001b[38;5;66;03m# linear interpolation function use first row of y and all of y -> linear interpolate location and y value\u001b[39;00m\n\u001b[0;32m      6\u001b[0m     ynew\u001b[38;5;241m=\u001b[39mpd\u001b[38;5;241m.\u001b[39mDataFrame(f(y_label_new)) \u001b[38;5;66;03m#first row of y (linear distributed) -> linearly interpolate(predict) when in evenly distributed location, what r y\u001b[39;00m\n\u001b[0;32m      7\u001b[0m     \u001b[38;5;28;01mreturn\u001b[39;00m ynew\n",
      "File \u001b[1;32m~\\anaconda3\\envs\\MachineLearning\\lib\\site-packages\\scipy\\interpolate\\_interpolate.py:491\u001b[0m, in \u001b[0;36minterp1d.__init__\u001b[1;34m(self, x, y, kind, axis, copy, bounds_error, fill_value, assume_sorted)\u001b[0m\n\u001b[0;32m    487\u001b[0m \u001b[38;5;28;01mdef\u001b[39;00m \u001b[38;5;21m__init__\u001b[39m(\u001b[38;5;28mself\u001b[39m, x, y, kind\u001b[38;5;241m=\u001b[39m\u001b[38;5;124m'\u001b[39m\u001b[38;5;124mlinear\u001b[39m\u001b[38;5;124m'\u001b[39m, axis\u001b[38;5;241m=\u001b[39m\u001b[38;5;241m-\u001b[39m\u001b[38;5;241m1\u001b[39m,\n\u001b[0;32m    488\u001b[0m              copy\u001b[38;5;241m=\u001b[39m\u001b[38;5;28;01mTrue\u001b[39;00m, bounds_error\u001b[38;5;241m=\u001b[39m\u001b[38;5;28;01mNone\u001b[39;00m, fill_value\u001b[38;5;241m=\u001b[39mnp\u001b[38;5;241m.\u001b[39mnan,\n\u001b[0;32m    489\u001b[0m              assume_sorted\u001b[38;5;241m=\u001b[39m\u001b[38;5;28;01mFalse\u001b[39;00m):\n\u001b[0;32m    490\u001b[0m \u001b[38;5;250m    \u001b[39m\u001b[38;5;124;03m\"\"\" Initialize a 1-D linear interpolation class.\"\"\"\u001b[39;00m\n\u001b[1;32m--> 491\u001b[0m     \u001b[43m_Interpolator1D\u001b[49m\u001b[38;5;241;43m.\u001b[39;49m\u001b[38;5;21;43m__init__\u001b[39;49m\u001b[43m(\u001b[49m\u001b[38;5;28;43mself\u001b[39;49m\u001b[43m,\u001b[49m\u001b[43m \u001b[49m\u001b[43mx\u001b[49m\u001b[43m,\u001b[49m\u001b[43m \u001b[49m\u001b[43my\u001b[49m\u001b[43m,\u001b[49m\u001b[43m \u001b[49m\u001b[43maxis\u001b[49m\u001b[38;5;241;43m=\u001b[39;49m\u001b[43maxis\u001b[49m\u001b[43m)\u001b[49m\n\u001b[0;32m    493\u001b[0m     \u001b[38;5;28mself\u001b[39m\u001b[38;5;241m.\u001b[39mbounds_error \u001b[38;5;241m=\u001b[39m bounds_error  \u001b[38;5;66;03m# used by fill_value setter\u001b[39;00m\n\u001b[0;32m    494\u001b[0m     \u001b[38;5;28mself\u001b[39m\u001b[38;5;241m.\u001b[39mcopy \u001b[38;5;241m=\u001b[39m copy\n",
      "File \u001b[1;32m~\\anaconda3\\envs\\MachineLearning\\lib\\site-packages\\scipy\\interpolate\\_polyint.py:56\u001b[0m, in \u001b[0;36m_Interpolator1D.__init__\u001b[1;34m(self, xi, yi, axis)\u001b[0m\n\u001b[0;32m     54\u001b[0m \u001b[38;5;28mself\u001b[39m\u001b[38;5;241m.\u001b[39mdtype \u001b[38;5;241m=\u001b[39m \u001b[38;5;28;01mNone\u001b[39;00m\n\u001b[0;32m     55\u001b[0m \u001b[38;5;28;01mif\u001b[39;00m yi \u001b[38;5;129;01mis\u001b[39;00m \u001b[38;5;129;01mnot\u001b[39;00m \u001b[38;5;28;01mNone\u001b[39;00m:\n\u001b[1;32m---> 56\u001b[0m     \u001b[38;5;28;43mself\u001b[39;49m\u001b[38;5;241;43m.\u001b[39;49m\u001b[43m_set_yi\u001b[49m\u001b[43m(\u001b[49m\u001b[43myi\u001b[49m\u001b[43m,\u001b[49m\u001b[43m \u001b[49m\u001b[43mxi\u001b[49m\u001b[38;5;241;43m=\u001b[39;49m\u001b[43mxi\u001b[49m\u001b[43m,\u001b[49m\u001b[43m \u001b[49m\u001b[43maxis\u001b[49m\u001b[38;5;241;43m=\u001b[39;49m\u001b[43maxis\u001b[49m\u001b[43m)\u001b[49m\n",
      "File \u001b[1;32m~\\anaconda3\\envs\\MachineLearning\\lib\\site-packages\\scipy\\interpolate\\_polyint.py:126\u001b[0m, in \u001b[0;36m_Interpolator1D._set_yi\u001b[1;34m(self, yi, xi, axis)\u001b[0m\n\u001b[0;32m    124\u001b[0m     shape \u001b[38;5;241m=\u001b[39m (\u001b[38;5;241m1\u001b[39m,)\n\u001b[0;32m    125\u001b[0m \u001b[38;5;28;01mif\u001b[39;00m xi \u001b[38;5;129;01mis\u001b[39;00m \u001b[38;5;129;01mnot\u001b[39;00m \u001b[38;5;28;01mNone\u001b[39;00m \u001b[38;5;129;01mand\u001b[39;00m shape[axis] \u001b[38;5;241m!=\u001b[39m \u001b[38;5;28mlen\u001b[39m(xi):\n\u001b[1;32m--> 126\u001b[0m     \u001b[38;5;28;01mraise\u001b[39;00m \u001b[38;5;167;01mValueError\u001b[39;00m(\u001b[38;5;124m\"\u001b[39m\u001b[38;5;124mx and y arrays must be equal in length along \u001b[39m\u001b[38;5;124m\"\u001b[39m\n\u001b[0;32m    127\u001b[0m                      \u001b[38;5;124m\"\u001b[39m\u001b[38;5;124minterpolation axis.\u001b[39m\u001b[38;5;124m\"\u001b[39m)\n\u001b[0;32m    129\u001b[0m \u001b[38;5;28mself\u001b[39m\u001b[38;5;241m.\u001b[39m_y_axis \u001b[38;5;241m=\u001b[39m (axis \u001b[38;5;241m%\u001b[39m yi\u001b[38;5;241m.\u001b[39mndim)\n\u001b[0;32m    130\u001b[0m \u001b[38;5;28mself\u001b[39m\u001b[38;5;241m.\u001b[39m_y_extra_shape \u001b[38;5;241m=\u001b[39m yi\u001b[38;5;241m.\u001b[39mshape[:\u001b[38;5;28mself\u001b[39m\u001b[38;5;241m.\u001b[39m_y_axis]\u001b[38;5;241m+\u001b[39myi\u001b[38;5;241m.\u001b[39mshape[\u001b[38;5;28mself\u001b[39m\u001b[38;5;241m.\u001b[39m_y_axis\u001b[38;5;241m+\u001b[39m\u001b[38;5;241m1\u001b[39m:]\n",
      "\u001b[1;31mValueError\u001b[0m: x and y arrays must be equal in length along interpolation axis."
     ]
    }
   ],
   "source": [
    "# Fix ramdom seed\n",
    "warnings.filterwarnings('ignore')\n",
    "seed_tensorflow(42)\n",
    "\n",
    "# Import dataset\n",
    "x, y = data_import(datapathway)\n",
    "\n",
    "# Pre-processing\n",
    "model_type, Proc_X_train, Proc_Y_train, Proc_X_test, Y_test = pre_processing('ANN2', x, y)\n",
    "tune_optimizer()\n"
   ]
  }
 ],
 "metadata": {
  "kernelspec": {
   "display_name": "Python 3 (ipykernel)",
   "language": "python",
   "name": "python3"
  },
  "language_info": {
   "codemirror_mode": {
    "name": "ipython",
    "version": 3
   },
   "file_extension": ".py",
   "mimetype": "text/x-python",
   "name": "python",
   "nbconvert_exporter": "python",
   "pygments_lexer": "ipython3",
   "version": "3.8.20"
  }
 },
 "nbformat": 4,
 "nbformat_minor": 5
}
